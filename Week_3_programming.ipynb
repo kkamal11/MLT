{
  "cells": [
    {
      "cell_type": "markdown",
      "metadata": {
        "id": "view-in-github",
        "colab_type": "text"
      },
      "source": [
        "<a href=\"https://colab.research.google.com/github/kkamal11/MLT/blob/main/Week_3_programming.ipynb\" target=\"_parent\"><img src=\"https://colab.research.google.com/assets/colab-badge.svg\" alt=\"Open In Colab\"/></a>"
      ]
    },
    {
      "cell_type": "code",
      "execution_count": 1,
      "metadata": {
        "id": "3TDibK0Yrxm_"
      },
      "outputs": [],
      "source": [
        "import numpy as np\n",
        "import matplotlib.pyplot as plt"
      ]
    },
    {
      "cell_type": "markdown",
      "metadata": {
        "id": "1TBHlt7hAdN1"
      },
      "source": [
        "# Week-3\n",
        "\n",
        "**Note to Learners**: \n",
        "\n",
        "- For questions that involve plotting, just enter $0$ as the answer in the portal.\n",
        "- For numerical questions, there are two parts. The first part expects you to compute some quantity, say a parameter of a machine learning model. The second part will require you to convert this quantity (if it is not a scalar) into a scalar so that it can be entered as the answer on the portal to the corresponding NAT question.\n",
        "\n"
      ]
    },
    {
      "cell_type": "markdown",
      "metadata": {
        "id": "XJKrscLo9qwH"
      },
      "source": [
        "## Dataset\n",
        "\n",
        "Run the cell given below to generate the data-matrix $\\mathbf{X}$, which is of shape $(n, d)$, where $n$ denotes the number of samples and $d$ denotes the number of features. You will be using this dataset for the rest of the assignment. \n",
        "\n",
        "**Do not edit this cell.**"
      ]
    },
    {
      "cell_type": "code",
      "execution_count": 5,
      "metadata": {
        "id": "GIygEzr49Xvf"
      },
      "outputs": [],
      "source": [
        "np.random.seed(0)    #to get predictable output from a random number generator we use seed\n",
        "\n",
        "N = 2000\n",
        "data1 = np.random.randn(N//3,2) + np.array([2,2])\n",
        "data2 = np.random.randn(N//3,2) + np.array([-3,-3])\n",
        "data3 = np.random.randn(N//3,2) + np.array([-5,3])\n",
        "X = np.concatenate((data1, data2, data3))"
      ]
    },
    {
      "cell_type": "markdown",
      "metadata": {
        "id": "VAONMkaU91v7"
      },
      "source": [
        "## Problem 1\n",
        "How many samples are there in the dataset?\n",
        "\n"
      ]
    },
    {
      "cell_type": "markdown",
      "metadata": {
        "id": "LnXmn5t-V8Us"
      },
      "source": [
        "## Solution"
      ]
    },
    {
      "cell_type": "code",
      "execution_count": 3,
      "metadata": {
        "id": "b8mWzvYI96Vq",
        "colab": {
          "base_uri": "https://localhost:8080/"
        },
        "outputId": "b3d086ad-d853-4de8-d5fc-139a7db9f69d"
      },
      "outputs": [
        {
          "output_type": "stream",
          "name": "stdout",
          "text": [
            "1998\n"
          ]
        }
      ],
      "source": [
        "# Enter your solution here\n",
        "print(X.shape[0])"
      ]
    },
    {
      "cell_type": "markdown",
      "metadata": {
        "id": "ozjMS6e_91y3"
      },
      "source": [
        "## Problem 2\n",
        "\n",
        "How many features are there in the dataset?\n"
      ]
    },
    {
      "cell_type": "markdown",
      "metadata": {
        "id": "xvFvIHN9V_s7"
      },
      "source": [
        "## Solution"
      ]
    },
    {
      "cell_type": "code",
      "execution_count": null,
      "metadata": {
        "id": "ii_yZn4N-Di8",
        "colab": {
          "base_uri": "https://localhost:8080/"
        },
        "outputId": "393f5df5-89dc-4a0e-db30-645bea3f1a1f"
      },
      "outputs": [
        {
          "output_type": "stream",
          "name": "stdout",
          "text": [
            "2\n"
          ]
        }
      ],
      "source": [
        "# Enter your solution here\n",
        "print(X.shape[1])"
      ]
    },
    {
      "cell_type": "markdown",
      "metadata": {
        "id": "mvplHWyjiUbW"
      },
      "source": [
        "## Problem 3\n",
        "Plot the dataset using matplotlib.\n",
        "\n"
      ]
    },
    {
      "cell_type": "markdown",
      "metadata": {
        "id": "CbfiHcTWWAW_"
      },
      "source": [
        "## Solution"
      ]
    },
    {
      "cell_type": "code",
      "execution_count": null,
      "metadata": {
        "id": "ajYsJVCaXUuX",
        "colab": {
          "base_uri": "https://localhost:8080/",
          "height": 265
        },
        "outputId": "28bf7586-bedb-46ac-c940-322c270ad470"
      },
      "outputs": [
        {
          "output_type": "display_data",
          "data": {
            "text/plain": [
              "<Figure size 432x288 with 1 Axes>"
            ],
            "image/png": "[encoded data removed]"
          },
          "metadata": {
            "needs_background": "light"
          }
        }
      ],
      "source": [
        "# Enter your solution here\n",
        "plt.scatter(X[:,0],X[:,1])\n",
        "plt.show()"
      ]
    },
    {
      "cell_type": "markdown",
      "metadata": {
        "id": "KqqNxjxwTcmy"
      },
      "source": [
        "## Instruction\n",
        "\n",
        "Assume k = 3. Take the data points with indices 200, 800 and 1200 in X to be the initial cluster centers.\n"
      ]
    },
    {
      "cell_type": "markdown",
      "metadata": {
        "id": "boFYtkMYGvqp"
      },
      "source": [
        "## Problem 4 \n",
        "\n",
        "Write a function `assign_clusters(X, k, cluster_centers)` that assigns a cluster to each data point as per their distance from each cluster centre and returns a vector `z`, where $z[i] \\in \\{0, 1, 2\\}$.\n",
        "\n",
        "What is the mean of the values in vector `z`? Provide the answer correct up to three decimal places.\n",
        "\n"
      ]
    },
    {
      "cell_type": "markdown",
      "metadata": {
        "id": "TxzT0NmEWBT4"
      },
      "source": [
        "## Solution"
      ]
    },
    {
      "cell_type": "code",
      "source": [
        "k = 3\n",
        "\n",
        "cluster_centers = X[[200,800,1200]]\n",
        "print(cluster_centers)"
      ],
      "metadata": {
        "colab": {
          "base_uri": "https://localhost:8080/"
        },
        "id": "DlobTScEFMy8",
        "outputId": "f19d7825-815f-4c8f-da12-da2a295b8f3f"
      },
      "execution_count": 15,
      "outputs": [
        {
          "output_type": "stream",
          "name": "stdout",
          "text": [
            "[[ 1.40134606  0.88410301]\n",
            " [-2.56922887 -3.14989159]\n",
            " [-2.84782302 -3.37412632]]\n"
          ]
        }
      ]
    },
    {
      "cell_type": "code",
      "source": [
        "def distance(x,y):\n",
        "  return np.linalg.norm((x - y))"
      ],
      "metadata": {
        "id": "1FyNlDX7F78o"
      },
      "execution_count": 17,
      "outputs": []
    },
    {
      "cell_type": "code",
      "execution_count": 20,
      "metadata": {
        "id": "-AG_aso7vJJJ"
      },
      "outputs": [],
      "source": [
        "# Enter your solution here\n",
        "def assign_clusters(X, k, cluster_centers):\n",
        "  z = np.array([])\n",
        "  for point in X:\n",
        "    dist_from_each_center = [distance(cluster_centers[i],point) for i in range(k)]\n",
        "    chosen_cluster_for_point = np.argmin(dist_from_each_center)\n",
        "    z = np.append(z,chosen_cluster_for_point)\n",
        "  return z"
      ]
    },
    {
      "cell_type": "code",
      "source": [
        "z = assign_clusters(X, k, cluster_centers)\n",
        "print(np.mean(z))"
      ],
      "metadata": {
        "colab": {
          "base_uri": "https://localhost:8080/"
        },
        "id": "_GNtxXIoIWsf",
        "outputId": "de659a0d-0dd7-4943-c39e-7ef584ad3b98"
      },
      "execution_count": 21,
      "outputs": [
        {
          "output_type": "stream",
          "name": "stdout",
          "text": [
            "0.7107107107107107\n"
          ]
        }
      ]
    },
    {
      "cell_type": "markdown",
      "metadata": {
        "id": "wBAID5ZVvRT-"
      },
      "source": [
        "## Problem 5\n",
        "\n",
        "Plot the data points, with different color for different clusters.\n"
      ]
    },
    {
      "cell_type": "markdown",
      "metadata": {
        "id": "CqzhLWSSWCDM"
      },
      "source": [
        "## Solution"
      ]
    },
    {
      "cell_type": "code",
      "execution_count": 23,
      "metadata": {
        "id": "W8HGT5APvYqx",
        "colab": {
          "base_uri": "https://localhost:8080/",
          "height": 265
        },
        "outputId": "087bfb3c-70de-4d62-f339-c50eb45014ab"
      },
      "outputs": [
        {
          "output_type": "display_data",
          "data": {
            "text/plain": [
              "<Figure size 432x288 with 1 Axes>"
            ],
            "image/png": "[encoded data removed]"
          },
          "metadata": {
            "needs_background": "light"
          }
        }
      ],
      "source": [
        "plt.scatter(X[:,0],X[:,1],c = z)   #c = some list  and give colour accordingly \n",
        "plt.show()"
      ]
    },
    {
      "cell_type": "markdown",
      "metadata": {
        "id": "1K6nYDj9vc5F"
      },
      "source": [
        "## Problem 6\n",
        "Write a function `compute_cluster_centers(X, z, k)` that computes the clusters' centers as per z and returns `k` new cluster centers.\n",
        "\n",
        "What is the mean of the three cluster centers? Provide the $x_1$ and $y_1$ component. Provide both components correct up to three decimal places.\n",
        "\n"
      ]
    },
    {
      "cell_type": "markdown",
      "metadata": {
        "id": "QV1U58JaWC0N"
      },
      "source": [
        "## Solution"
      ]
    },
    {
      "cell_type": "code",
      "execution_count": 31,
      "metadata": {
        "id": "tKwl_GatvjEu",
        "colab": {
          "base_uri": "https://localhost:8080/"
        },
        "outputId": "39b827be-fba6-4ba4-c181-995aac7d747f"
      },
      "outputs": [
        {
          "output_type": "stream",
          "name": "stdout",
          "text": [
            "[-2.55251646 -0.19225194]\n"
          ]
        }
      ],
      "source": [
        "def compute_cluster_centers(X, z, k):\n",
        "  c_ = np.array([np.mean(X[z == i],axis=0) for i in range(k)])\n",
        "  return c_\n",
        "\n",
        "new_centers = compute_cluster_centers(X, z, 3)\n",
        "print(new_centers.mean(axis=0))"
      ]
    }
  ],
  "metadata": {
    "colab": {
      "collapsed_sections": [],
      "provenance": [],
      "include_colab_link": true
    },
    "kernelspec": {
      "display_name": "Python 3",
      "name": "python3"
    },
    "language_info": {
      "name": "python"
    }
  },
  "nbformat": 4,
  "nbformat_minor": 0
}