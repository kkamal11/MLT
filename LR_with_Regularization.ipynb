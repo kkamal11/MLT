{
  "nbformat": 4,
  "nbformat_minor": 0,
  "metadata": {
    "colab": {
      "provenance": [],
      "include_colab_link": true
    },
    "kernelspec": {
      "name": "python3",
      "display_name": "Python 3"
    },
    "language_info": {
      "name": "python"
    }
  },
  "cells": [
    {
      "cell_type": "markdown",
      "metadata": {
        "id": "view-in-github",
        "colab_type": "text"
      },
      "source": [
        "<a href=\"https://colab.research.google.com/github/kkamal11/MLT/blob/main/LR_with_Regularization.ipynb\" target=\"_parent\"><img src=\"https://colab.research.google.com/assets/colab-badge.svg\" alt=\"Open In Colab\"/></a>"
      ]
    },
    {
      "cell_type": "code",
      "execution_count": 47,
      "metadata": {
        "id": "3TDibK0Yrxm_"
      },
      "outputs": [],
      "source": [
        "import numpy as np\n",
        "import matplotlib.pyplot as plt\n"
      ]
    },
    {
      "cell_type": "markdown",
      "source": [
        "## Dataset\n",
        "\n",
        "Run the cell given below to generate the data-matrix $X$ and target vector $y$. $X$ is of shape $(n, d)$, where $n$ denotes the number of samples and $d$ denotes the number of features. $y$ is of shape $(n,)$. You will be using this dataset for the rest of the session. \n",
        "\n"
      ],
      "metadata": {
        "id": "XJKrscLo9qwH"
      }
    },
    {
      "cell_type": "code",
      "source": [
        "from sklearn.datasets import load_diabetes\n",
        "X, y = load_diabetes(return_X_y = True)\n",
        "\n",
        "# set the random seed value to 0\n",
        "np.random.seed(0)"
      ],
      "metadata": {
        "id": "GIygEzr49Xvf"
      },
      "execution_count": 48,
      "outputs": []
    },
    {
      "cell_type": "code",
      "source": [
        "X.shape"
      ],
      "metadata": {
        "colab": {
          "base_uri": "https://localhost:8080/"
        },
        "id": "JITbubD-pEWO",
        "outputId": "082014f9-a01a-4b01-efc9-eaf65eb40f06"
      },
      "execution_count": 49,
      "outputs": [
        {
          "output_type": "execute_result",
          "data": {
            "text/plain": [
              "(442, 10)"
            ]
          },
          "metadata": {},
          "execution_count": 49
        }
      ]
    },
    {
      "cell_type": "markdown",
      "source": [
        "\n",
        "Write a function `shuffle_data(X, y)` that returns the shuffled $X$ and $y$. \n",
        "\n",
        "Note that it should shuffle the data pairs $(x_i, y_i)$. \n",
        "\n"
      ],
      "metadata": {
        "id": "HxIZaojUVGIL"
      }
    },
    {
      "cell_type": "code",
      "source": [
        "## Shuffle data\n",
        "def shuffle_data(X, y):\n",
        "    indices = np.arange(X.shape[0])\n",
        "    np.random.shuffle(indices)\n",
        "    return X[indices], y[indices]"
      ],
      "metadata": {
        "id": "uLGsJyGkdgug"
      },
      "execution_count": 50,
      "outputs": []
    },
    {
      "cell_type": "code",
      "source": [
        "X, y = shuffle_data(X, y)"
      ],
      "metadata": {
        "id": "CANDpSg9p3WE"
      },
      "execution_count": 51,
      "outputs": []
    },
    {
      "cell_type": "markdown",
      "source": [
        "\n",
        "Write a function `train_test_split(X, y, test_size)` that divides the data (X, y) into $X_{train}$, $X_{test}$, $y_{train}$, $y_{test}$ respectively as per test_size which should be a value between 0 and 1.\n",
        "\n",
        "That is, if test_size = $t$, then `int(t*n)` data points should go to test and the remaining data points should go to train.\n",
        "\n",
        "$X_{train}$, $X_{test}$, $y_{train}$, $y_{test}$ should be returned by the function.\n",
        "\n",
        "\n",
        "\n",
        "\n",
        "\n",
        "\n"
      ],
      "metadata": {
        "id": "pfsUsn_8WSXZ"
      }
    },
    {
      "cell_type": "code",
      "source": [
        "## Train Test split\n",
        "def train_test_split(X, y, test_size):\n",
        "    X, y = shuffle_data(X, y)\n",
        "    num_of_train_points = len(y) - int(len(y) * test_size)\n",
        "    X_train, X_test = X[:num_of_train_points], X[num_of_train_points:]\n",
        "    y_train, y_test = y[:num_of_train_points], y[num_of_train_points:]\n",
        "    return X_train, X_test, y_train, y_test"
      ],
      "metadata": {
        "id": "Y5VZVbT8dg2b"
      },
      "execution_count": 52,
      "outputs": []
    },
    {
      "cell_type": "code",
      "source": [
        "X_train, X_test, y_train, y_test = train_test_split(X, y, 0.25)\n",
        "print(np.sum(y_test))"
      ],
      "metadata": {
        "colab": {
          "base_uri": "https://localhost:8080/"
        },
        "id": "aAgu6fXqqo9I",
        "outputId": "b16d2451-fc83-4625-9325-b9f1f1a896a6"
      },
      "execution_count": 53,
      "outputs": [
        {
          "output_type": "stream",
          "name": "stdout",
          "text": [
            "16433.0\n"
          ]
        }
      ]
    },
    {
      "cell_type": "code",
      "source": [
        "X_train.shape, X_test.shape, y_train.shape, y_test.shape"
      ],
      "metadata": {
        "colab": {
          "base_uri": "https://localhost:8080/"
        },
        "id": "OxqzLiqCq3uE",
        "outputId": "a50a0db5-a364-44d1-808b-9dc4dcef9f8b"
      },
      "execution_count": 54,
      "outputs": [
        {
          "output_type": "execute_result",
          "data": {
            "text/plain": [
              "((332, 10), (110, 10), (332,), (110,))"
            ]
          },
          "metadata": {},
          "execution_count": 54
        }
      ]
    },
    {
      "cell_type": "markdown",
      "source": [
        "\n",
        "Add a dummy feature, i.e., a column containing all 1's (as the first column) in $X_{train}$ and $X_{test}$.\n",
        "\n",
        "Take the transpose of both $X_{train}$ and $X_{test}$.\n",
        "\n"
      ],
      "metadata": {
        "id": "nYgSo6DLe0n-"
      }
    },
    {
      "cell_type": "code",
      "source": [
        "### Add dummy feature\n",
        "X_train = np.column_stack((np.ones(X_train.shape[0]), X_train)).T\n",
        "X_test = np.column_stack((np.ones(X_test.shape[0]), X_test)).T"
      ],
      "metadata": {
        "id": "Lgv2V9qnnNv3"
      },
      "execution_count": 55,
      "outputs": []
    },
    {
      "cell_type": "code",
      "source": [
        "X_train.shape, X_test.shape"
      ],
      "metadata": {
        "colab": {
          "base_uri": "https://localhost:8080/"
        },
        "id": "mKi39U4lr4Vi",
        "outputId": "826cb8ac-4838-4517-bd47-2de55da928d4"
      },
      "execution_count": 56,
      "outputs": [
        {
          "output_type": "execute_result",
          "data": {
            "text/plain": [
              "((11, 332), (11, 110))"
            ]
          },
          "metadata": {},
          "execution_count": 56
        }
      ]
    },
    {
      "cell_type": "markdown",
      "source": [
        "\n",
        "\n",
        "Write a function `compute_weights(X, y)` that uses the closed form formula of linear regression and returns a weight vector.\n",
        "\n"
      ],
      "metadata": {
        "id": "mYY6hNkYf7gr"
      }
    },
    {
      "cell_type": "code",
      "source": [
        "## Weight vector\n",
        "def compute_weights(X, y):\n",
        "    w = np.linalg.pinv(X @ X.T) @ X @ y\n",
        "    return w"
      ],
      "metadata": {
        "id": "XWxPR8N5nc17"
      },
      "execution_count": 57,
      "outputs": []
    },
    {
      "cell_type": "code",
      "source": [
        "w = compute_weights(X_train, y_train)\n",
        "w_p_sum = np.sum(w)\n",
        "print(w_p_sum)\n",
        "np.round(w,1)"
      ],
      "metadata": {
        "colab": {
          "base_uri": "https://localhost:8080/"
        },
        "id": "ES6yaYtBsUwW",
        "outputId": "9416a18d-582f-406c-fdee-3ad195deb0ca"
      },
      "execution_count": 58,
      "outputs": [
        {
          "output_type": "stream",
          "name": "stdout",
          "text": [
            "1454.1221941768836\n"
          ]
        },
        {
          "output_type": "execute_result",
          "data": {
            "text/plain": [
              "array([ 152.9,  -73.9, -261.3,  501.2,  288.6, -654.3,  443.2,   88.4,\n",
              "        242.4,  664.4,   62.6])"
            ]
          },
          "metadata": {},
          "execution_count": 58
        }
      ]
    },
    {
      "cell_type": "markdown",
      "source": [
        "\n",
        "\n",
        "Write a function `MSE(X, y, w)` that returns the mean squared error for the given `X`, `y` as per `w` values.\n",
        "\n"
      ],
      "metadata": {
        "id": "XUKviVRZoh2j"
      }
    },
    {
      "cell_type": "code",
      "source": [
        "## MSE\n",
        "def MSE(X, y, w):\n",
        "    y_pred = X.T @ w\n",
        "    return np.mean((y - y_pred) ** 2)"
      ],
      "metadata": {
        "id": "PYguHgM_2cSv"
      },
      "execution_count": 59,
      "outputs": []
    },
    {
      "cell_type": "code",
      "source": [
        "train_error = MSE(X_train, y_train, w)\n",
        "test_error = MSE(X_test, y_test, w)\n",
        "train_error, test_error"
      ],
      "metadata": {
        "colab": {
          "base_uri": "https://localhost:8080/"
        },
        "id": "VPgCfnATs-Ls",
        "outputId": "b55cc7a5-5fed-45b1-e69b-81e3ab21278d"
      },
      "execution_count": 60,
      "outputs": [
        {
          "output_type": "execute_result",
          "data": {
            "text/plain": [
              "(2771.093164840927, 3296.443580041717)"
            ]
          },
          "metadata": {},
          "execution_count": 60
        }
      ]
    },
    {
      "cell_type": "markdown",
      "source": [
        "\n",
        "Write a function `compute_weights_ridge(X, y)` that uses the closed form formula of Ridge regression and returns a weight vector.\n",
        "\n"
      ],
      "metadata": {
        "id": "mZZVbejulHyv"
      }
    },
    {
      "cell_type": "code",
      "source": [
        "#### Ridge weight vector\n",
        "def compute_weights_ridge(X, y, lambdaa):\n",
        "    w = np.linalg.pinv(X @ X.T + lambdaa * np.eye(X.shape[0])) @ X @ y\n",
        "    return w"
      ],
      "metadata": {
        "id": "tjfnYaG627ki"
      },
      "execution_count": 61,
      "outputs": []
    },
    {
      "cell_type": "code",
      "source": [
        "w = compute_weights_ridge(X_train, y_train, 0.3)\n",
        "print(w)\n",
        "w_ridge_sum = np.sum(w)\n",
        "print(w_ridge_sum)"
      ],
      "metadata": {
        "colab": {
          "base_uri": "https://localhost:8080/"
        },
        "id": "PHHa4W-0tsNZ",
        "outputId": "31929b08-0656-437c-a55d-e240508c8e59"
      },
      "execution_count": 64,
      "outputs": [
        {
          "output_type": "stream",
          "name": "stdout",
          "text": [
            "[ 152.84362271  -34.46555309 -157.30342921  378.04139768  231.93871602\n",
            "   15.57485021  -21.05431327 -165.58296708  146.10348544  313.20841088\n",
            "  105.37970096]\n",
            "964.6839212414957\n"
          ]
        }
      ]
    },
    {
      "cell_type": "code",
      "source": [
        "print(w_p_sum - w_ridge_sum)"
      ],
      "metadata": {
        "colab": {
          "base_uri": "https://localhost:8080/"
        },
        "id": "8sUaBiPXu8C_",
        "outputId": "7128a23c-f8ee-445c-d28e-a2e45c2d5f3e"
      },
      "execution_count": 65,
      "outputs": [
        {
          "output_type": "stream",
          "name": "stdout",
          "text": [
            "489.4382729353879\n"
          ]
        }
      ]
    },
    {
      "cell_type": "markdown",
      "source": [
        "\n",
        "\n",
        "Compute the train error and test error."
      ],
      "metadata": {
        "id": "LC9Au6sPt1oT"
      }
    },
    {
      "cell_type": "code",
      "source": [
        "### Test and train error\n",
        "train_error = MSE(X_train, y_train, w)\n",
        "test_error = MSE(X_test, y_test, w)\n",
        "print(np.abs(train_error - test_error))"
      ],
      "metadata": {
        "id": "6fCBTgYfpRDA",
        "colab": {
          "base_uri": "https://localhost:8080/"
        },
        "outputId": "6e7b5b24-bfef-4c98-e2d9-1352a08cf191"
      },
      "execution_count": 66,
      "outputs": [
        {
          "output_type": "stream",
          "name": "stdout",
          "text": [
            "754.0074653775923\n"
          ]
        }
      ]
    },
    {
      "cell_type": "markdown",
      "source": [
        "Use 10 different values between 0 and 5 as the regularization strength and keep a record of the weight vectors obtained for each. Further, calculate the sum of weights for each weight vector. Plot these sums of weights (on y-axis) with respect to the regularization strength (on x-axis) and observe the reduction in (sum of) weights."
      ],
      "metadata": {
        "id": "oAL0lo_1vzNH"
      }
    },
    {
      "cell_type": "code",
      "source": [
        "x = np.linspace(0, 5, 10)\n",
        "W_sum = []\n",
        "for i in range(len(x)):\n",
        "    w = compute_weights_ridge(X_train, y_train, x[i])\n",
        "    W_sum.append(np.sum(w))\n",
        "\n",
        "plt.bar(x, W_sum);"
      ],
      "metadata": {
        "colab": {
          "base_uri": "https://localhost:8080/",
          "height": 265
        },
        "id": "dsWE9AzwvnqM",
        "outputId": "5c161396-3903-4fe6-ba88-b0ebb14fcfd5"
      },
      "execution_count": 72,
      "outputs": [
        {
          "output_type": "display_data",
          "data": {
            "text/plain": [
              "<Figure size 432x288 with 1 Axes>"
            ],
            "image/png": "[encoded data removed]"
          },
          "metadata": {
            "needs_background": "light"
          }
        }
      ]
    },
    {
      "cell_type": "code",
      "source": [],
      "metadata": {
        "id": "tZTrvpbuwl1v"
      },
      "execution_count": null,
      "outputs": []
    }
  ]
}