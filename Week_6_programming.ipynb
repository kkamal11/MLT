{
  "nbformat": 4,
  "nbformat_minor": 0,
  "metadata": {
    "colab": {
      "provenance": [],
      "collapsed_sections": [],
      "include_colab_link": true
    },
    "kernelspec": {
      "name": "python3",
      "display_name": "Python 3"
    },
    "language_info": {
      "name": "python"
    }
  },
  "cells": [
    {
      "cell_type": "markdown",
      "metadata": {
        "id": "view-in-github",
        "colab_type": "text"
      },
      "source": [
        "<a href=\"https://colab.research.google.com/github/kkamal11/MLT/blob/main/Week_6_programming.ipynb\" target=\"_parent\"><img src=\"https://colab.research.google.com/assets/colab-badge.svg\" alt=\"Open In Colab\"/></a>"
      ]
    },
    {
      "cell_type": "code",
      "execution_count": 87,
      "metadata": {
        "id": "3TDibK0Yrxm_"
      },
      "outputs": [],
      "source": [
        "import numpy as np\n",
        "import matplotlib.pyplot as plt"
      ]
    },
    {
      "cell_type": "markdown",
      "source": [
        "# Week-6\n",
        "\n",
        "**Note:**: \n",
        "\n",
        "- For questions that involve plotting, just enter $0$ as the answer in the portal.\n",
        "\n"
      ],
      "metadata": {
        "id": "1TBHlt7hAdN1"
      }
    },
    {
      "cell_type": "markdown",
      "source": [
        "## Dataset\n",
        "\n",
        "Run the cell given below to generate the data-matrix $X$ and target vector $y$. $X$ is of shape $(n, d)$, where $n$ denotes the number of samples and $d$ denotes the number of features. $y$ is of shape $(n,)$. You will be using this dataset for the rest of the assignment. \n",
        "\n",
        "**Do not edit this cell.**"
      ],
      "metadata": {
        "id": "XJKrscLo9qwH"
      }
    },
    {
      "cell_type": "code",
      "source": [
        "from sklearn.datasets import load_diabetes\n",
        "X, y = load_diabetes(return_X_y = True)\n",
        "\n",
        "# set the random seed value to 0\n",
        "np.random.seed(0)"
      ],
      "metadata": {
        "id": "GIygEzr49Xvf"
      },
      "execution_count": 88,
      "outputs": []
    },
    {
      "cell_type": "markdown",
      "source": [
        "## Problem 1\n",
        "How many samples are there in the dataset?\n",
        "\n"
      ],
      "metadata": {
        "id": "VAONMkaU91v7"
      }
    },
    {
      "cell_type": "markdown",
      "source": [
        "## Solution"
      ],
      "metadata": {
        "id": "LnXmn5t-V8Us"
      }
    },
    {
      "cell_type": "code",
      "source": [
        "# Write your solution code here\n",
        "print(X.shape[0])"
      ],
      "metadata": {
        "id": "U_WEAtwXDqVF",
        "colab": {
          "base_uri": "https://localhost:8080/"
        },
        "outputId": "68f1562b-78da-4da2-9143-13ea11a159ee"
      },
      "execution_count": 89,
      "outputs": [
        {
          "output_type": "stream",
          "name": "stdout",
          "text": [
            "442\n"
          ]
        }
      ]
    },
    {
      "cell_type": "markdown",
      "source": [
        "## Problem 2\n",
        "\n",
        "How many features are there in the dataset?\n",
        "\n"
      ],
      "metadata": {
        "id": "ozjMS6e_91y3"
      }
    },
    {
      "cell_type": "markdown",
      "source": [
        "## Solution"
      ],
      "metadata": {
        "id": "xvFvIHN9V_s7"
      }
    },
    {
      "cell_type": "code",
      "source": [
        "# Write your solution code here\n",
        "print(X.shape[1])"
      ],
      "metadata": {
        "id": "ii_yZn4N-Di8",
        "colab": {
          "base_uri": "https://localhost:8080/"
        },
        "outputId": "1a3363c6-38ad-417c-99ca-afde55b85660"
      },
      "execution_count": 90,
      "outputs": [
        {
          "output_type": "stream",
          "name": "stdout",
          "text": [
            "10\n"
          ]
        }
      ]
    },
    {
      "cell_type": "markdown",
      "source": [
        "## Problem 3\n",
        "Write a function `shuffle_data(X, y)` that returns the shuffled $X$ and $y$. \n",
        "\n",
        "Note that it should shuffle the data pairs $(x_i, y_i)$. \n",
        "\n",
        "What will be the mean of the first 5 values in $y$?\n",
        "\n"
      ],
      "metadata": {
        "id": "HxIZaojUVGIL"
      }
    },
    {
      "cell_type": "code",
      "source": [
        "# Write your solution code here\n",
        "def shuffle_data(X,y):\n",
        "    indices = np.arange(X.shape[0])\n",
        "    np.random.shuffle(indices)\n",
        "    return X[indices], y[indices]\n",
        "\n",
        "X,y = shuffle_data(X,y)\n",
        "y[:5].mean()"
      ],
      "metadata": {
        "id": "uLGsJyGkdgug",
        "colab": {
          "base_uri": "https://localhost:8080/"
        },
        "outputId": "e6b2ccf1-9064-4ed6-ab42-dd46f2f5df7a"
      },
      "execution_count": 91,
      "outputs": [
        {
          "output_type": "execute_result",
          "data": {
            "text/plain": [
              "180.4"
            ]
          },
          "metadata": {},
          "execution_count": 91
        }
      ]
    },
    {
      "cell_type": "markdown",
      "source": [
        "## Problem 4\n",
        "\n",
        "Write a function `train_test_split(X, y, test_size)` that divides the data (X, y) into $X_{train}$, $X_{test}$, $y_{train}$, $y_{test}$ respectively as per test_size which should be a value between 0 and 1.\n",
        "\n",
        "That is, if test_size = $t$, then `int(t*n)` data points should go to test and the remaining data points should go to train.\n",
        "\n",
        "$X_{train}$, $X_{test}$, $y_{train}$, $y_{test}$ should be returned by the function.\n",
        "\n",
        "Set the test_size to be 0.25 and output the sum of all y values settling in $y_{test}$.\n",
        "\n",
        "\n",
        "\n",
        "\n",
        "\n",
        "\n"
      ],
      "metadata": {
        "id": "pfsUsn_8WSXZ"
      }
    },
    {
      "cell_type": "code",
      "source": [
        "# Write your solution code here\n",
        "def train_test_split(X,y,test_size):\n",
        "    num_of_train_data_points = len(y) - int(len(y) * test_size)\n",
        "    X_train = X[:num_of_train_data_points]\n",
        "    X_test = X[num_of_train_data_points:]\n",
        "    y_train = y[:num_of_train_data_points]\n",
        "    y_test = y[num_of_train_data_points:]\n",
        "    return X_train,X_test, y_train, y_test\n",
        "\n",
        "X_train,X_test, y_train, y_test = train_test_split(X,y,0.25)\n",
        "np.sum(y_test)"
      ],
      "metadata": {
        "id": "Y5VZVbT8dg2b",
        "colab": {
          "base_uri": "https://localhost:8080/"
        },
        "outputId": "a50606cb-566b-405d-a752-e094f3892277"
      },
      "execution_count": 92,
      "outputs": [
        {
          "output_type": "execute_result",
          "data": {
            "text/plain": [
              "16960.0"
            ]
          },
          "metadata": {},
          "execution_count": 92
        }
      ]
    },
    {
      "cell_type": "markdown",
      "source": [
        "## Problem 5\n",
        "\n",
        "What are the shapes of $X_{train}$, $X_{test}$, $y_{train}$, $y_{test}$ respectively?\n",
        "\n"
      ],
      "metadata": {
        "id": "D67g0r9ad8Ea"
      }
    },
    {
      "cell_type": "code",
      "source": [
        "# Write your solution code here\n",
        "print(X_train.shape,X_test.shape,y_train.shape,y_test.shape)"
      ],
      "metadata": {
        "id": "kTPAakKblF7q",
        "colab": {
          "base_uri": "https://localhost:8080/"
        },
        "outputId": "ce45fe3b-ae93-4d1d-9181-172a417b992a"
      },
      "execution_count": 93,
      "outputs": [
        {
          "output_type": "stream",
          "name": "stdout",
          "text": [
            "(332, 10) (110, 10) (332,) (110,)\n"
          ]
        }
      ]
    },
    {
      "cell_type": "markdown",
      "source": [
        "## Problem 6\n",
        "Add a dummy feature, i.e., a column containing all 1's (as the first column) in $X_{train}$ and $X_{test}$.\n",
        "\n",
        "Take the transpose of both $X_{train}$ and $X_{test}$.\n",
        "\n",
        "What are the shapes of $X_{train}$ and $X_{test}$?\n",
        "\n"
      ],
      "metadata": {
        "id": "nYgSo6DLe0n-"
      }
    },
    {
      "cell_type": "code",
      "source": [
        "# Write your solution code here\n",
        "X_train = np.column_stack((np.ones(X_train.shape[0]), X_train)).T\n",
        "X_test = np.column_stack((np.ones(X_test.shape[0]), X_test)).T\n",
        "\n",
        "X_train.shape,X_test.shape"
      ],
      "metadata": {
        "id": "Lgv2V9qnnNv3",
        "colab": {
          "base_uri": "https://localhost:8080/"
        },
        "outputId": "d076ee2d-bcb7-49f5-a4d4-5cfe81f19566"
      },
      "execution_count": 94,
      "outputs": [
        {
          "output_type": "execute_result",
          "data": {
            "text/plain": [
              "((11, 332), (11, 110))"
            ]
          },
          "metadata": {},
          "execution_count": 94
        }
      ]
    },
    {
      "cell_type": "markdown",
      "source": [
        "## Problem 7\n",
        "\n",
        "Write a function `compute_weights(X, y)` that uses the closed form formula of linear regression and returns a weight vector.\n",
        "\n",
        "Call this function by passing $X_{train}$ and $y_{train}$. As the dummy feature was added as the first column, the first value in the weight vector will be the intercept. What is its value (rounded to one decimal place)?\n"
      ],
      "metadata": {
        "id": "mYY6hNkYf7gr"
      }
    },
    {
      "cell_type": "code",
      "source": [
        "# Write your solution code here\n",
        "def compute_weights(X, y):\n",
        "    return np.linalg.pinv(X @ X.T) @ X @ y\n",
        "\n",
        "w = compute_weights(X_train, y_train)\n",
        "w[0]"
      ],
      "metadata": {
        "id": "XWxPR8N5nc17",
        "colab": {
          "base_uri": "https://localhost:8080/"
        },
        "outputId": "ec117d1b-e664-4fcb-a2dd-33cbb9640258"
      },
      "execution_count": 95,
      "outputs": [
        {
          "output_type": "execute_result",
          "data": {
            "text/plain": [
              "150.80824818427146"
            ]
          },
          "metadata": {},
          "execution_count": 95
        }
      ]
    },
    {
      "cell_type": "markdown",
      "source": [
        "## Problem 8\n",
        "\n",
        "Write a function `MSE(X, y, w)` that returns the mean squared error for the given `X`, `y` as per `w` values.\n",
        "\n",
        "Using this function, compute the train error and test error.\n",
        "\n",
        "Note: Here `y` is the true `y` for `X`.\n",
        "\n",
        "Compute both train and test error. \n",
        "\n",
        "What is the value of test error?\n"
      ],
      "metadata": {
        "id": "XUKviVRZoh2j"
      }
    },
    {
      "cell_type": "code",
      "source": [
        "# Write your solution code here\n",
        "def MSE(X, y, w):\n",
        "    y_hat = w.T @ X\n",
        "    return np.sum((y - y_hat) ** 2)/X.shape[1]\n",
        "train_error = MSE(X_train, y_train, w)\n",
        "test_error = MSE(X_test, y_test, w)\n",
        "print(test_error)"
      ],
      "metadata": {
        "id": "PkAULslJD48q",
        "colab": {
          "base_uri": "https://localhost:8080/"
        },
        "outputId": "a20b3abf-6ecd-4ea0-ef4b-803311a56e25"
      },
      "execution_count": 101,
      "outputs": [
        {
          "output_type": "stream",
          "name": "stdout",
          "text": [
            "2745.3877322919916\n"
          ]
        }
      ]
    },
    {
      "cell_type": "markdown",
      "source": [
        "## Problem 9\n",
        "\n",
        "Write a function `compute_weights_ridge(X, y, l)` that uses the closed form formula of Ridge regression and returns a weight vector. Here, l is the regularization strength.\n",
        "\n",
        "Call this function by passing  `X_train`, `y_train` and 0.3 as the value of regularization strength. \n",
        "\n",
        "\n",
        "Find the sum of values in the weight vector obtained. How much reduction in total sum of weights is achieved with respect to the the weight vector obtained from 'plain' linear regression (without regularization) computed earlier.\n"
      ],
      "metadata": {
        "id": "mZZVbejulHyv"
      }
    },
    {
      "cell_type": "code",
      "source": [
        "# Write your solution code here\n",
        "def compute_weights_ridge(X, y, l):\n",
        "    return np.linalg.pinv(X @ X.T + l*np.eye(X.shape[0])) @ X @ y\n",
        "\n",
        "w_ridge = compute_weights_ridge(X_train, y_train, 0.3)\n",
        "print(np.sum(w) - np.sum(w_ridge.round(1)))"
      ],
      "metadata": {
        "id": "LCyCWK9dqZm1",
        "colab": {
          "base_uri": "https://localhost:8080/"
        },
        "outputId": "942185f6-fbf3-47ea-afda-12c57233ad43"
      },
      "execution_count": 110,
      "outputs": [
        {
          "output_type": "stream",
          "name": "stdout",
          "text": [
            "679.8933660159178\n"
          ]
        }
      ]
    },
    {
      "cell_type": "markdown",
      "source": [
        "## Problem 10\n",
        "\n",
        "Compute the train error and test error. What is their absolute difference?\n",
        "\n"
      ],
      "metadata": {
        "id": "LC9Au6sPt1oT"
      }
    },
    {
      "cell_type": "code",
      "source": [
        "# Write your solution code here\n",
        "train_error = MSE(X_train, y_train, w_ridge)\n",
        "test_error = MSE(X_test, y_test, w_ridge)\n",
        "np.abs(train_error - test_error)"
      ],
      "metadata": {
        "id": "iOUjJJpZ3BaZ",
        "colab": {
          "base_uri": "https://localhost:8080/"
        },
        "outputId": "d336d233-aa50-4d35-93b5-07cd8e7c6dc2"
      },
      "execution_count": 108,
      "outputs": [
        {
          "output_type": "execute_result",
          "data": {
            "text/plain": [
              "99.47546542734335"
            ]
          },
          "metadata": {},
          "execution_count": 108
        }
      ]
    },
    {
      "cell_type": "markdown",
      "source": [
        "## Problem 11\n",
        "\n",
        "Use 10 different values between 0 and 5 as the regularization strength and keep a record of the weight vectors obtained for each. Further, calculate the sum of weights for each weight vector.\n",
        "\n",
        "Plot these sums of weights (on y-axis) with respect to the regularization strength (on x-axis) and observe the reduction in (sum of) weights.\n",
        "\n"
      ],
      "metadata": {
        "id": "Wn6-FG5puh8O"
      }
    },
    {
      "cell_type": "code",
      "source": [
        "# Write your solution code here\n",
        "sum_w = []\n",
        "for l in np.linspace(0,5,10):\n",
        "    w = compute_weights_ridge(X_train, y_train, l)\n",
        "    sum_w.append(np.sum(w))\n",
        "\n",
        "plt.plot(np.linspace(0,5,10), sum_w, 'ro-')\n",
        "plt.xlabel(\"Regularization strength\")\n",
        "plt.ylabel(\"Sum of weights\")\n",
        "plt.show()"
      ],
      "metadata": {
        "id": "zlzueWYWwtSi",
        "colab": {
          "base_uri": "https://localhost:8080/",
          "height": 279
        },
        "outputId": "adbe3985-a890-432a-aa35-5d8e5ff00c00"
      },
      "execution_count": 115,
      "outputs": [
        {
          "output_type": "display_data",
          "data": {
            "text/plain": [
              "<Figure size 432x288 with 1 Axes>"
            ],
            "image/png": "[encoded data removed]"
          },
          "metadata": {
            "needs_background": "light"
          }
        }
      ]
    }
  ]
}