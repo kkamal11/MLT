{
  "nbformat": 4,
  "nbformat_minor": 0,
  "metadata": {
    "colab": {
      "provenance": [],
      "include_colab_link": true
    },
    "kernelspec": {
      "name": "python3",
      "display_name": "Python 3"
    },
    "language_info": {
      "name": "python"
    }
  },
  "cells": [
    {
      "cell_type": "markdown",
      "metadata": {
        "id": "view-in-github",
        "colab_type": "text"
      },
      "source": [
        "<a href=\"https://colab.research.google.com/github/kkamal11/MLT/blob/main/Week_9_Programming.ipynb\" target=\"_parent\"><img src=\"https://colab.research.google.com/assets/colab-badge.svg\" alt=\"Open In Colab\"/></a>"
      ]
    },
    {
      "cell_type": "code",
      "execution_count": 1,
      "metadata": {
        "id": "3TDibK0Yrxm_"
      },
      "outputs": [],
      "source": [
        "import numpy as np\n",
        "import matplotlib.pyplot as plt"
      ]
    },
    {
      "cell_type": "markdown",
      "source": [
        "# Week-9\n",
        "\n",
        "**Note to Learners**: \n",
        "\n",
        "- For questions that involve plotting, just enter $0$ as the answer in the portal.\n"
      ],
      "metadata": {
        "id": "1TBHlt7hAdN1"
      }
    },
    {
      "cell_type": "markdown",
      "source": [
        "## Dataset\n",
        "\n",
        "Run the cell given below to generate the data-matrix $\\mathbf{X}$, which is of shape $(n, d)$, where $n$ denotes the number of samples and $d$ denotes the number of features. \n",
        "\n",
        "**Do not edit this cell.**"
      ],
      "metadata": {
        "id": "XJKrscLo9qwH"
      }
    },
    {
      "cell_type": "code",
      "source": [
        "from sklearn.datasets import make_classification\n",
        "X, y = make_classification(n_samples=50, n_features=2, n_informative = 2, n_redundant = 0, n_clusters_per_class = 1, flip_y = 0, class_sep = 3, random_state=20)"
      ],
      "metadata": {
        "id": "d_H2VRQNsLly"
      },
      "execution_count": 77,
      "outputs": []
    },
    {
      "cell_type": "markdown",
      "source": [
        "## Problem 1\n",
        "How many samples are there in the dataset?\n",
        "\n"
      ],
      "metadata": {
        "id": "VAONMkaU91v7"
      }
    },
    {
      "cell_type": "code",
      "source": [
        "print(X.shape[0])"
      ],
      "metadata": {
        "colab": {
          "base_uri": "https://localhost:8080/"
        },
        "id": "hpW0KdVbAdXW",
        "outputId": "95f1b01b-d016-44aa-8511-abd0f17b2bbe"
      },
      "execution_count": 78,
      "outputs": [
        {
          "output_type": "stream",
          "name": "stdout",
          "text": [
            "50\n"
          ]
        }
      ]
    },
    {
      "cell_type": "markdown",
      "source": [
        "## Problem 2\n",
        "\n",
        "How many features are there in the dataset?\n"
      ],
      "metadata": {
        "id": "ozjMS6e_91y3"
      }
    },
    {
      "cell_type": "code",
      "source": [
        "print(X.shape[1])"
      ],
      "metadata": {
        "colab": {
          "base_uri": "https://localhost:8080/"
        },
        "id": "-L3L-gjRAkXG",
        "outputId": "21c1c7e4-377a-45f3-b957-a207bf8f666a"
      },
      "execution_count": 10,
      "outputs": [
        {
          "output_type": "stream",
          "name": "stdout",
          "text": [
            "2\n"
          ]
        }
      ]
    },
    {
      "cell_type": "markdown",
      "source": [
        "## Problem 3\n",
        "In the target vector $y$, replace all occurrences of 0 with -1. \n",
        "\n",
        "How many unique classes are there in the target vector?\n",
        "\n"
      ],
      "metadata": {
        "id": "BOuGvyBUrGUH"
      }
    },
    {
      "cell_type": "code",
      "source": [
        "print(np.unique(y))"
      ],
      "metadata": {
        "colab": {
          "base_uri": "https://localhost:8080/"
        },
        "id": "YlVzKDkSF6pI",
        "outputId": "cac7d19a-9146-4694-e588-4878ec267e35"
      },
      "execution_count": 23,
      "outputs": [
        {
          "output_type": "stream",
          "name": "stdout",
          "text": [
            "[0 1]\n"
          ]
        }
      ]
    },
    {
      "cell_type": "code",
      "source": [
        "y == 0"
      ],
      "metadata": {
        "colab": {
          "base_uri": "https://localhost:8080/"
        },
        "id": "Ed4dFPfSGjiA",
        "outputId": "5990afe2-9862-4157-bbaf-1e22041b28a4"
      },
      "execution_count": 24,
      "outputs": [
        {
          "output_type": "execute_result",
          "data": {
            "text/plain": [
              "array([False, False, False, False, False, False, False,  True,  True,\n",
              "       False,  True,  True,  True, False,  True,  True, False, False,\n",
              "        True, False,  True, False,  True,  True, False,  True, False,\n",
              "        True, False, False,  True, False,  True, False,  True, False,\n",
              "       False,  True,  True,  True,  True, False, False,  True,  True,\n",
              "        True,  True, False, False,  True])"
            ]
          },
          "metadata": {},
          "execution_count": 24
        }
      ]
    },
    {
      "cell_type": "code",
      "source": [
        "# y = np.array([i if i == 1 else -1 for i in y])\n",
        "y[y == 0] = -1\n",
        "y"
      ],
      "metadata": {
        "colab": {
          "base_uri": "https://localhost:8080/"
        },
        "id": "tEzrhHb0AoD_",
        "outputId": "7fc47f32-76b5-4310-f27b-2e1db62f1ca4"
      },
      "execution_count": 79,
      "outputs": [
        {
          "output_type": "execute_result",
          "data": {
            "text/plain": [
              "array([ 1,  1,  1,  1,  1,  1,  1, -1, -1,  1, -1, -1, -1,  1, -1, -1,  1,\n",
              "        1, -1,  1, -1,  1, -1, -1,  1, -1,  1, -1,  1,  1, -1,  1, -1,  1,\n",
              "       -1,  1,  1, -1, -1, -1, -1,  1,  1, -1, -1, -1, -1,  1,  1, -1])"
            ]
          },
          "metadata": {},
          "execution_count": 79
        }
      ]
    },
    {
      "cell_type": "markdown",
      "source": [
        "## Problem 4\n",
        "Plot the data keepig first feature on the x-axis and the second feature on the y-axis. Plot the data points belonging to each class in different colors. Does the data seem linearly separable?\n",
        "\n",
        "[MCQ]\n",
        "\n",
        "**Options:**\n",
        "\n",
        "(a) Yes\n",
        "\n",
        "(b) No\n",
        "\n"
      ],
      "metadata": {
        "id": "2mjZDVoIqzkJ"
      }
    },
    {
      "cell_type": "code",
      "source": [
        "# plt.plot(X[:,0],X[:,1],'ro')\n",
        "plt.plot(X[:,0][y == -1],X[:,1][y == -1],'ro')\n",
        "plt.plot(X[:,0][y == 1],X[:,1][y == 1],'bo')\n",
        "plt.show()"
      ],
      "metadata": {
        "colab": {
          "base_uri": "https://localhost:8080/",
          "height": 265
        },
        "id": "I4TFO5T3BBj1",
        "outputId": "72957be4-fa4b-447f-aef4-88d624576476"
      },
      "execution_count": 80,
      "outputs": [
        {
          "output_type": "display_data",
          "data": {
            "text/plain": [
              "<Figure size 432x288 with 1 Axes>"
            ],
            "image/png": "[encoded data removed]"
          },
          "metadata": {
            "needs_background": "light"
          }
        }
      ]
    },
    {
      "cell_type": "markdown",
      "source": [
        "## Problem 5\n",
        "\n",
        "Initialize w to be a zero vector, with shape equal to the number of features in the data.\n",
        "\n",
        "Iterate over each data point $x$ in $X$ one by one (in the same sequence as present in $X$). For each data point, compute the value of $w^Tx$. If $w^Tx \\ge 0$, predict positive class for $x$, else predict the negative class.\n",
        "\n",
        "If prediction does not match the actual class label, update the weight vector as per the following update rule:\n",
        "$$w_{new} = w_{old} + xy$$ where $x$ is the data point and $y$ is the actual label of $x$.\n",
        "\n",
        "Run the above for 10 epochs (iterations), but stop if there are no weight updates in an epoch. \n",
        "\n",
        "In which iteration, does the number of weight updates becomes zero for the first time?\n",
        "\n",
        "[NAT]\n",
        "**Options**\n",
        "\n",
        "(a) 1\n",
        "\n",
        "(b) 2\n",
        "\n",
        "(c) 3\n",
        "\n",
        "(d) 5\n",
        "\n"
      ],
      "metadata": {
        "id": "wBvVzKA-u9YM"
      }
    },
    {
      "cell_type": "code",
      "source": [
        "def prediction(l):\n",
        "    return 1 if l >= 0 else -1"
      ],
      "metadata": {
        "id": "Xj55ZK7_K4zb"
      },
      "execution_count": 34,
      "outputs": []
    },
    {
      "cell_type": "code",
      "source": [
        "n_feat = X.shape[1]\n",
        "w = np.zeros(n_feat)\n",
        "\n",
        "weight_updates_in_each_epoch = {}\n",
        "\n",
        "for epoch in range(10):\n",
        "    weight_updates_in_each_epoch[epoch] = 0\n",
        "    for i in range(len(X)):\n",
        "        wtx = w.T @ X[i]\n",
        "        y_pred = prediction(wtx) \n",
        "        # print(y[i],y_pred)\n",
        "        if y_pred != y[i]:\n",
        "            w = w + X[i]*y[i]\n",
        "            weight_updates_in_each_epoch[epoch] += 1\n",
        "    if weight_updates_in_each_epoch[epoch] == 0:\n",
        "        print(epoch)\n",
        "        break\n",
        "    \n",
        "\n",
        "print(weight_updates_in_each_epoch)"
      ],
      "metadata": {
        "colab": {
          "base_uri": "https://localhost:8080/"
        },
        "id": "JmxtmwHOH9IO",
        "outputId": "d2ee552b-6209-4d2b-bfc0-b8dfcc8f8ab1"
      },
      "execution_count": 50,
      "outputs": [
        {
          "output_type": "stream",
          "name": "stdout",
          "text": [
            "1\n",
            "{0: 2, 1: 0}\n"
          ]
        }
      ]
    },
    {
      "cell_type": "code",
      "source": [
        "print(w)"
      ],
      "metadata": {
        "colab": {
          "base_uri": "https://localhost:8080/"
        },
        "id": "yW_VVNYcQGVR",
        "outputId": "0026fec3-46a0-4613-e062-9b185e63e976"
      },
      "execution_count": 51,
      "outputs": [
        {
          "output_type": "stream",
          "name": "stdout",
          "text": [
            "[ 6.08372134 -0.97979197]\n"
          ]
        }
      ]
    },
    {
      "cell_type": "markdown",
      "source": [
        "## Problem 6\n",
        "Plot the vector w and the decision boundary thus obtained.\n",
        "\n"
      ],
      "metadata": {
        "id": "3zs84_zyUMZG"
      }
    },
    {
      "cell_type": "markdown",
      "source": [
        "- The decision boundary will be perpendicular to w."
      ],
      "metadata": {
        "id": "u8RpFDDzTR3R"
      }
    },
    {
      "cell_type": "code",
      "source": [
        "plt.plot(X[:,0][y == -1],X[:,1][y == -1],'ro')\n",
        "plt.plot(X[:,0][y == 1],X[:,1][y == 1],'bo')\n",
        "plt.quiver(0, 0, w[0], w[1],scale=25, color=\"g\")\n",
        "plt.quiver(0, 0, -w[1], w[0],scale=25, color=\"y\", headaxislength=0, headlength=0)\n",
        "plt.quiver(0, 0, w[1], -w[0],scale=25, color=\"y\", headaxislength=0, headlength=0)\n",
        "# plt.show()\n",
        "plt.xlim(-7,7)\n",
        "plt.ylim(-7,7);"
      ],
      "metadata": {
        "colab": {
          "base_uri": "https://localhost:8080/",
          "height": 265
        },
        "id": "ajTBn7RiQDtQ",
        "outputId": "4c168906-6bd6-4c63-d458-4fe5016bf6ef"
      },
      "execution_count": 60,
      "outputs": [
        {
          "output_type": "display_data",
          "data": {
            "text/plain": [
              "<Figure size 432x288 with 1 Axes>"
            ],
            "image/png": "[encoded data removed]"
          },
          "metadata": {
            "needs_background": "light"
          }
        }
      ]
    },
    {
      "cell_type": "markdown",
      "source": [
        "## Problem 7\n",
        "What is the value of loss using the weight vector obtained earlier?  \n"
      ],
      "metadata": {
        "id": "8jRORev-U_AQ"
      }
    },
    {
      "cell_type": "code",
      "source": [
        "def loss(X, w, y):\n",
        "    ans = 0\n",
        "    for i in range(len(X)):\n",
        "        wtx = w.T @ X[i]\n",
        "        y_pred = prediction(wtx)\n",
        "        if y_pred != y[i]:\n",
        "            ans += 1\n",
        "    return ans/len(X)\n",
        "\n",
        "loss(X,w,y)"
      ],
      "metadata": {
        "colab": {
          "base_uri": "https://localhost:8080/"
        },
        "id": "w7dc8HupRTbU",
        "outputId": "09275757-48d5-440c-80fa-bf595d26f73a"
      },
      "execution_count": 67,
      "outputs": [
        {
          "output_type": "execute_result",
          "data": {
            "text/plain": [
              "0.0"
            ]
          },
          "metadata": {},
          "execution_count": 67
        }
      ]
    },
    {
      "cell_type": "markdown",
      "source": [
        "## Problem 8\n",
        "Now use the following data set, replace occurrences of 0 with -1 and visualize.\n",
        "\n",
        "**Do not edit the following cell.**\n",
        "\n"
      ],
      "metadata": {
        "id": "6Mv5kTYtVZ39"
      }
    },
    {
      "cell_type": "code",
      "source": [
        "from sklearn.datasets import make_classification\n",
        "X, y = make_classification(n_samples=50, n_features=2, n_informative = 2, n_redundant = 0, n_clusters_per_class = 1, flip_y = 0.1, class_sep = 2, random_state=20)"
      ],
      "metadata": {
        "id": "27pznw-oVeFq"
      },
      "execution_count": 81,
      "outputs": []
    },
    {
      "cell_type": "code",
      "source": [
        "print(X.shape)"
      ],
      "metadata": {
        "colab": {
          "base_uri": "https://localhost:8080/"
        },
        "id": "O_kzw6A1WAj5",
        "outputId": "dc91c898-3ee4-41b6-b1ac-d929f335bd31"
      },
      "execution_count": 69,
      "outputs": [
        {
          "output_type": "stream",
          "name": "stdout",
          "text": [
            "(50, 2)\n"
          ]
        }
      ]
    },
    {
      "cell_type": "markdown",
      "source": [
        "## Problem 9\n",
        "\n",
        "Apply the Perceptron code again. \n",
        "\n",
        "What is the number of weight updates performed in epoch 10?\n",
        "\n"
      ],
      "metadata": {
        "id": "jLlsj651cjtm"
      }
    },
    {
      "cell_type": "code",
      "source": [
        "y[y == 0] = -1"
      ],
      "metadata": {
        "id": "EJUzDmxGXUL2"
      },
      "execution_count": 82,
      "outputs": []
    },
    {
      "cell_type": "code",
      "source": [
        "w = np.zeros(X.shape[1])"
      ],
      "metadata": {
        "id": "vgXczj3WRXqZ"
      },
      "execution_count": 83,
      "outputs": []
    },
    {
      "cell_type": "code",
      "source": [
        "update_in_each_epoch = {}\n",
        "\n",
        "for epoch in range(10):\n",
        "    update_in_each_epoch[epoch] = 0\n",
        "    for i in range(len(X)):\n",
        "        wtx = w.T @ X[i]\n",
        "        y_pred = prediction(wtx)\n",
        "        if y_pred != y[i]:\n",
        "            w = w + X[i]*y[i]\n",
        "            update_in_each_epoch[epoch] += 1\n",
        "\n",
        "print(update_in_each_epoch)\n"
      ],
      "metadata": {
        "colab": {
          "base_uri": "https://localhost:8080/"
        },
        "id": "M12BHyjbWM41",
        "outputId": "d7ab3088-1b5d-4fbf-b8f0-ac73e1e364ec"
      },
      "execution_count": 84,
      "outputs": [
        {
          "output_type": "stream",
          "name": "stdout",
          "text": [
            "{0: 13, 1: 11, 2: 12, 3: 11, 4: 11, 5: 10, 6: 11, 7: 11, 8: 11, 9: 11}\n"
          ]
        }
      ]
    },
    {
      "cell_type": "markdown",
      "source": [
        "## Problem 10\n",
        "Visualize the weight vector and the decision boundary.\n",
        "\n"
      ],
      "metadata": {
        "id": "iVxGOLbocqVv"
      }
    },
    {
      "cell_type": "code",
      "source": [
        "plt.plot(X[:,0][y == -1],X[:,1][y == -1],'ro')\n",
        "plt.plot(X[:,0][y == 1],X[:,1][y == 1],'bo')\n",
        "plt.quiver(0, 0, w[0], w[1],scale=25, color=\"g\")\n",
        "plt.quiver(0, 0, -w[1], w[0],scale=25, color=\"y\", headaxislength=0, headlength=0)\n",
        "plt.quiver(0, 0, w[1], -w[0],scale=25, color=\"y\", headaxislength=0, headlength=0)\n",
        "# plt.show()\n",
        "plt.xlim(-5,5)\n",
        "plt.ylim(-5,5);"
      ],
      "metadata": {
        "colab": {
          "base_uri": "https://localhost:8080/",
          "height": 265
        },
        "id": "v6BBFtyBRW5u",
        "outputId": "89131886-8d6d-4703-e019-c127d8168370"
      },
      "execution_count": 85,
      "outputs": [
        {
          "output_type": "display_data",
          "data": {
            "text/plain": [
              "<Figure size 432x288 with 1 Axes>"
            ],
            "image/png": "[encoded data removed]"
          },
          "metadata": {
            "needs_background": "light"
          }
        }
      ]
    },
    {
      "cell_type": "markdown",
      "source": [
        "## Problem 11\n",
        "What is the value of loss using the weight vector obtained in the 10th epoch?\n",
        "\n"
      ],
      "metadata": {
        "id": "H43OonpNVuMD"
      }
    },
    {
      "cell_type": "code",
      "source": [
        "loss(X,w,y)*len(X)"
      ],
      "metadata": {
        "colab": {
          "base_uri": "https://localhost:8080/"
        },
        "id": "q1z8hg3ARWN9",
        "outputId": "df01f6cc-b946-4c48-c7f4-7b27d452062c"
      },
      "execution_count": 87,
      "outputs": [
        {
          "output_type": "execute_result",
          "data": {
            "text/plain": [
              "4.0"
            ]
          },
          "metadata": {},
          "execution_count": 87
        }
      ]
    }
  ]
}