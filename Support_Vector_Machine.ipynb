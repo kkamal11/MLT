{
  "cells": [
    {
      "cell_type": "markdown",
      "metadata": {
        "id": "view-in-github",
        "colab_type": "text"
      },
      "source": [
        "<a href=\"https://colab.research.google.com/github/kkamal11/MLT/blob/main/Support_Vector_Machine.ipynb\" target=\"_parent\"><img src=\"https://colab.research.google.com/assets/colab-badge.svg\" alt=\"Open In Colab\"/></a>"
      ]
    },
    {
      "cell_type": "markdown",
      "metadata": {
        "id": "Kwt8A5yBXwAW"
      },
      "source": [
        "# Support Vector Machines\n",
        "\n",
        "We wil implement both hard-margin SVMs and soft-margin SVMs from scratch on a toy dataset. Apart from `NumPy`, we would need to take the help of `SciPy` for solving the quadratic programming problem."
      ]
    },
    {
      "cell_type": "markdown",
      "metadata": {
        "id": "49WrewU6X1aR"
      },
      "source": [
        "## Hard-Margin SVM"
      ]
    },
    {
      "cell_type": "code",
      "execution_count": null,
      "metadata": {
        "id": "1bIDOxRZWRP9"
      },
      "outputs": [],
      "source": [
        "import numpy as np\n",
        "from matplotlib import pyplot as plt\n",
        "plt.rcParams['figure.figsize'] = (8,8)\n",
        "plt.rcParams['font.size'] = 15"
      ]
    },
    {
      "cell_type": "code",
      "execution_count": null,
      "metadata": {
        "id": "CO6QjhLnWYX3"
      },
      "outputs": [],
      "source": [
        "#### DATA: DO NOT EDIT THIS CELL ####\n",
        "X = np.array([[1, -3], [1, 0], [4, 1], [3, 7], [0, -2],\n",
        "             [-1, -6], [2, 5], [1, 2], [0, -1], [-1, -4],\n",
        "             [0, 7], [1, 5], [-4, 4], [2, 9], [-2, 2],\n",
        "             [-2, 0], [-3, -2], [-2, -4], [3, 10], [-3, -8]]).T\n",
        "y = np.array([1, 1, 1, 1, 1, \n",
        "             1, 1, 1, 1, 1,\n",
        "             -1, -1, -1, -1, -1, \n",
        "             -1, -1, -1, -1, -1])"
      ]
    },
    {
      "cell_type": "markdown",
      "metadata": {
        "id": "nhWvMF3QYQdx"
      },
      "source": [
        "### Understand the data\n",
        "\n",
        "$\\mathbf{X}$ is a data-matrix of shape $(d, n)$. $\\mathbf{y}$ is a vector of labels of size $(n, )$. Specifically, look at the shapes of the arrays involved."
      ]
    },
    {
      "cell_type": "code",
      "execution_count": null,
      "metadata": {
        "id": "EOO0y6UaapAa",
        "colab": {
          "base_uri": "https://localhost:8080/"
        },
        "outputId": "07495393-0020-4a09-c115-ed3ffb8f1e6c"
      },
      "outputs": [
        {
          "output_type": "stream",
          "name": "stdout",
          "text": [
            "(2, 20)\n",
            "(20,)\n"
          ]
        }
      ],
      "source": [
        "print(X.shape)\n",
        "print(y.shape)"
      ]
    },
    {
      "cell_type": "code",
      "source": [
        "X.T"
      ],
      "metadata": {
        "colab": {
          "base_uri": "https://localhost:8080/"
        },
        "id": "hi3K2811j3Cr",
        "outputId": "d21c803b-d1d5-46e9-9831-702f834742e5"
      },
      "execution_count": null,
      "outputs": [
        {
          "output_type": "execute_result",
          "data": {
            "text/plain": [
              "array([[ 1, -3],\n",
              "       [ 1,  0],\n",
              "       [ 4,  1],\n",
              "       [ 3,  7],\n",
              "       [ 0, -2],\n",
              "       [-1, -6],\n",
              "       [ 2,  5],\n",
              "       [ 1,  2],\n",
              "       [ 0, -1],\n",
              "       [-1, -4],\n",
              "       [ 0,  7],\n",
              "       [ 1,  5],\n",
              "       [-4,  4],\n",
              "       [ 2,  9],\n",
              "       [-2,  2],\n",
              "       [-2,  0],\n",
              "       [-3, -2],\n",
              "       [-2, -4],\n",
              "       [ 3, 10],\n",
              "       [-3, -8]])"
            ]
          },
          "metadata": {},
          "execution_count": 21
        }
      ]
    },
    {
      "cell_type": "markdown",
      "metadata": {
        "id": "aI0L-xJ4aj-d"
      },
      "source": [
        "### Visualize the dataset\n",
        "\n",
        "Visualize the dataset given to you using a scatter plot. Colour points which belong to class $+1$ $\\color{green}{\\text{green}}$ and those that belong to $-1$ $\\color{red}{\\text{red}}$. Inspect the data visually and determine its linear separability."
      ]
    },
    {
      "cell_type": "code",
      "execution_count": null,
      "metadata": {
        "id": "kbjQsLMSXuDc",
        "colab": {
          "base_uri": "https://localhost:8080/",
          "height": 488
        },
        "outputId": "c9635a43-f33a-4cd4-de84-f30911a8c80e"
      },
      "outputs": [
        {
          "output_type": "display_data",
          "data": {
            "text/plain": [
              "<Figure size 576x576 with 1 Axes>"
            ],
            "image/png": "[encoded data removed]"
          },
          "metadata": {
            "needs_background": "light"
          }
        }
      ],
      "source": [
        "plt.plot(X[0][y == 1],X[1][y == 1],'go')\n",
        "plt.plot(X[0][y == -1],X[1][y == -1],'ro')\n",
        "plt.show()"
      ]
    },
    {
      "cell_type": "code",
      "source": [
        "color = np.array([\"dummy\",\"green\",\"red\"])\n",
        "plt.scatter(X[0],X[1],c=color[y]);"
      ],
      "metadata": {
        "colab": {
          "base_uri": "https://localhost:8080/",
          "height": 488
        },
        "id": "Jc4Y_G0osgOU",
        "outputId": "25c7adc0-8f5a-4bd5-d574-0b75d2e40e9d"
      },
      "execution_count": null,
      "outputs": [
        {
          "output_type": "display_data",
          "data": {
            "text/plain": [
              "<Figure size 576x576 with 1 Axes>"
            ],
            "image/png": "[encoded data removed]"
          },
          "metadata": {
            "needs_background": "light"
          }
        }
      ]
    },
    {
      "cell_type": "markdown",
      "source": [
        "### Linear Separability\n",
        "\n",
        "Is there another way to determine linear separability?"
      ],
      "metadata": {
        "id": "V4fH-yQH8IYX"
      }
    },
    {
      "cell_type": "code",
      "execution_count": null,
      "metadata": {
        "id": "w-Ifz3QH56DI",
        "colab": {
          "base_uri": "https://localhost:8080/"
        },
        "outputId": "08e16e37-370f-42ff-9de3-892373aa958b"
      },
      "outputs": [
        {
          "output_type": "stream",
          "name": "stdout",
          "text": [
            "[ 6. -2.]\n"
          ]
        }
      ],
      "source": [
        "#YES::Use perceptron algorithm\n",
        "\n",
        "w = np.zeros(X.shape[0])\n",
        "i = 0\n",
        "while not np.all(w @ X * y > 0):\n",
        "    if i == X.shape[1]:\n",
        "        i = 0\n",
        "    if X[:,i] @ w * y[i] <= 0:\n",
        "        w += X[:,i] * y[i]\n",
        "    i += 1\n",
        "\n",
        "print(w)"
      ]
    },
    {
      "cell_type": "markdown",
      "source": [
        "▶ Had the data been not linearly separable then this loop would have continued endlessly and not ended."
      ],
      "metadata": {
        "id": "bJdNthAbuBuL"
      }
    },
    {
      "cell_type": "markdown",
      "metadata": {
        "id": "uDOb9EmzZwWG"
      },
      "source": [
        "### Computing the Dual Objective\n",
        "\n",
        "We shall follow a step-by-step approach to computing the dual objective function."
      ]
    },
    {
      "cell_type": "markdown",
      "metadata": {
        "id": "jMdpPLXPo3Fi"
      },
      "source": [
        "#### Step-1\n",
        "\n",
        "Compute the object $\\mathbf{Y}$ that appears in the dual problem."
      ]
    },
    {
      "cell_type": "code",
      "execution_count": null,
      "metadata": {
        "id": "EzgoThG4aPej",
        "colab": {
          "base_uri": "https://localhost:8080/"
        },
        "outputId": "e7dface6-7218-4167-a8c1-be857e6089fb"
      },
      "outputs": [
        {
          "output_type": "stream",
          "name": "stdout",
          "text": [
            "[[ 1  0  0  0  0  0  0  0  0  0  0  0  0  0  0  0  0  0  0  0]\n",
            " [ 0  1  0  0  0  0  0  0  0  0  0  0  0  0  0  0  0  0  0  0]\n",
            " [ 0  0  1  0  0  0  0  0  0  0  0  0  0  0  0  0  0  0  0  0]\n",
            " [ 0  0  0  1  0  0  0  0  0  0  0  0  0  0  0  0  0  0  0  0]\n",
            " [ 0  0  0  0  1  0  0  0  0  0  0  0  0  0  0  0  0  0  0  0]\n",
            " [ 0  0  0  0  0  1  0  0  0  0  0  0  0  0  0  0  0  0  0  0]\n",
            " [ 0  0  0  0  0  0  1  0  0  0  0  0  0  0  0  0  0  0  0  0]\n",
            " [ 0  0  0  0  0  0  0  1  0  0  0  0  0  0  0  0  0  0  0  0]\n",
            " [ 0  0  0  0  0  0  0  0  1  0  0  0  0  0  0  0  0  0  0  0]\n",
            " [ 0  0  0  0  0  0  0  0  0  1  0  0  0  0  0  0  0  0  0  0]\n",
            " [ 0  0  0  0  0  0  0  0  0  0 -1  0  0  0  0  0  0  0  0  0]\n",
            " [ 0  0  0  0  0  0  0  0  0  0  0 -1  0  0  0  0  0  0  0  0]\n",
            " [ 0  0  0  0  0  0  0  0  0  0  0  0 -1  0  0  0  0  0  0  0]\n",
            " [ 0  0  0  0  0  0  0  0  0  0  0  0  0 -1  0  0  0  0  0  0]\n",
            " [ 0  0  0  0  0  0  0  0  0  0  0  0  0  0 -1  0  0  0  0  0]\n",
            " [ 0  0  0  0  0  0  0  0  0  0  0  0  0  0  0 -1  0  0  0  0]\n",
            " [ 0  0  0  0  0  0  0  0  0  0  0  0  0  0  0  0 -1  0  0  0]\n",
            " [ 0  0  0  0  0  0  0  0  0  0  0  0  0  0  0  0  0 -1  0  0]\n",
            " [ 0  0  0  0  0  0  0  0  0  0  0  0  0  0  0  0  0  0 -1  0]\n",
            " [ 0  0  0  0  0  0  0  0  0  0  0  0  0  0  0  0  0  0  0 -1]]\n"
          ]
        }
      ],
      "source": [
        "Y = np.diag(y)\n",
        "print(Y)"
      ]
    },
    {
      "cell_type": "markdown",
      "metadata": {
        "id": "Zbbv04-qa_c3"
      },
      "source": [
        "#### Step-2\n",
        "\n",
        "Let $\\boldsymbol{\\alpha}$ be the dual variable. The dual objective is of the form:\n",
        "\n",
        "$$\n",
        "f(\\boldsymbol{\\alpha}) = \\boldsymbol{\\alpha}^T \\mathbf{1} - \\cfrac{1}{2} \\cdot \\boldsymbol{\\alpha}^T \\mathbf{Q} \\boldsymbol{\\alpha}\n",
        "$$\n",
        "\n",
        "\n",
        "\n",
        "Compute the matrix $\\mathbf{Q}$ for this problem.\n",
        "\n",
        "\n",
        "$$\n",
        "Q = Y^TX^TXY\n",
        "$$"
      ]
    },
    {
      "cell_type": "code",
      "execution_count": null,
      "metadata": {
        "id": "p_AsPP_nb48r",
        "colab": {
          "base_uri": "https://localhost:8080/"
        },
        "outputId": "b7395524-587a-4b4b-9f68-962947fe46ea"
      },
      "outputs": [
        {
          "output_type": "stream",
          "name": "stdout",
          "text": [
            "[[ 10   1   1 -18   6  17 -13  -5   3  11  21  14  16  25   8   2  -3 -10\n",
            "   27 -21]\n",
            " [  1   1   4   3   0  -1   2   1   0  -1   0  -1   4  -2   2   2   3   2\n",
            "   -3   3]\n",
            " [  1   4  17  19  -2 -10  13   6  -1  -8  -7  -9  12 -17   6   8  14  12\n",
            "  -22  20]\n",
            " [-18   3  19  58 -14 -45  41  17  -7 -31 -49 -38 -16 -69  -8   6  23  34\n",
            "  -79  65]\n",
            " [  6   0  -2 -14   4  12 -10  -4   2   8  14  10   8  18   4   0  -4  -8\n",
            "   20 -16]\n",
            " [ 17  -1 -10 -45  12  37 -32 -13   6  25  42  31  20  56  10  -2 -15 -26\n",
            "   63 -51]\n",
            " [-13   2  13  41 -10 -32  29  12  -5 -22 -35 -27 -12 -49  -6   4  16  24\n",
            "  -56  46]\n",
            " [ -5   1   6  17  -4 -13  12   5  -2  -9 -14 -11  -4 -20  -2   2   7  10\n",
            "  -23  19]\n",
            " [  3   0  -1  -7   2   6  -5  -2   1   4   7   5   4   9   2   0  -2  -4\n",
            "   10  -8]\n",
            " [ 11  -1  -8 -31   8  25 -22  -9   4  17  28  21  12  38   6  -2 -11 -18\n",
            "   43 -35]\n",
            " [ 21   0  -7 -49  14  42 -35 -14   7  28  49  35  28  63  14   0 -14 -28\n",
            "   70 -56]\n",
            " [ 14  -1  -9 -38  10  31 -27 -11   5  21  35  26  16  47   8  -2 -13 -22\n",
            "   53 -43]\n",
            " [ 16   4  12 -16   8  20 -12  -4   4  12  28  16  32  28  16   8   4  -8\n",
            "   28 -20]\n",
            " [ 25  -2 -17 -69  18  56 -49 -20   9  38  63  47  28  85  14  -4 -24 -40\n",
            "   96 -78]\n",
            " [  8   2   6  -8   4  10  -6  -2   2   6  14   8  16  14   8   4   2  -4\n",
            "   14 -10]\n",
            " [  2   2   8   6   0  -2   4   2   0  -2   0  -2   8  -4   4   4   6   4\n",
            "   -6   6]\n",
            " [ -3   3  14  23  -4 -15  16   7  -2 -11 -14 -13   4 -24   2   6  13  14\n",
            "  -29  25]\n",
            " [-10   2  12  34  -8 -26  24  10  -4 -18 -28 -22  -8 -40  -4   4  14  20\n",
            "  -46  38]\n",
            " [ 27  -3 -22 -79  20  63 -56 -23  10  43  70  53  28  96  14  -6 -29 -46\n",
            "  109 -89]\n",
            " [-21   3  20  65 -16 -51  46  19  -8 -35 -56 -43 -20 -78 -10   6  25  38\n",
            "  -89  73]]\n"
          ]
        }
      ],
      "source": [
        "Q = Y.T @ X.T @ X @ Y\n",
        "print(Q)"
      ]
    },
    {
      "cell_type": "markdown",
      "metadata": {
        "id": "O4QlhIsWyxYe"
      },
      "source": [
        "#### Step-3\n",
        "\n",
        "Since `SciPy`'s optimization routines take the form of minimizing a function, we will recast $f$ as follows:\n",
        "\n",
        "$$\n",
        "f(\\boldsymbol{\\alpha}) =  \\cfrac{1}{2} \\cdot \\boldsymbol{\\alpha}^T \\mathbf{Q} \\boldsymbol{\\alpha} - \\boldsymbol{\\alpha}^T \\mathbf{1}\n",
        "$$\n",
        "\n",
        "We now have to solve :\n",
        "\n",
        "$$\n",
        "\\min \\limits_{\\boldsymbol{\\alpha} \\geq 0} \\quad f(\\boldsymbol{\\alpha})\n",
        "$$\n",
        "\n",
        "Note that $\\max$ changes to $\\min$ since we changed the sign of the objective function."
      ]
    },
    {
      "cell_type": "code",
      "execution_count": null,
      "metadata": {
        "id": "TXGgoTZ4z63Z"
      },
      "outputs": [],
      "source": [
        "#Define the objective function\n",
        "def f(alpha):\n",
        "    return 0.5 * alpha.T @ Q @ alpha - alpha.sum()"
      ]
    },
    {
      "cell_type": "markdown",
      "metadata": {
        "id": "Plv87Si05V5G"
      },
      "source": [
        "### Optimize\n",
        "\n",
        "Finally, we have most of the ingredients to solve the dual problem:\n",
        "\n",
        "$$\n",
        "\\min \\limits_{\\boldsymbol{\\alpha} \\geq 0} \\quad \\cfrac{1}{2} \\cdot \\boldsymbol{\\alpha}^T \\mathbf{Q} \\boldsymbol{\\alpha} - \\boldsymbol{\\alpha}^T \\mathbf{1}\n",
        "$$\n",
        "\n",
        "Find the optimal value, $\\boldsymbol{\\alpha^{*}}$."
      ]
    },
    {
      "cell_type": "code",
      "execution_count": null,
      "metadata": {
        "id": "y_Wcmwy3grQ7",
        "colab": {
          "base_uri": "https://localhost:8080/"
        },
        "outputId": "4ecca617-6ecc-4721-87b7-7bfa2677ffc4"
      },
      "outputs": [
        {
          "output_type": "execute_result",
          "data": {
            "text/plain": [
              "      fun: -4.99999999958859\n",
              " hess_inv: <20x20 LbfgsInvHessProduct with dtype=float64>\n",
              "      jac: array([ 5.00006436e+00,  1.99998782e+00,  9.99992507e+00,  9.99782301e-01,\n",
              "        1.00005106e+00,  2.00016723e+00, -1.53388414e-04, -6.50146607e-05,\n",
              "        2.64677171e-05,  1.16173738e-04,  6.00018133e+00,  1.00014148e+00,\n",
              "        1.50000542e+01,  2.00025791e+00,  7.00002669e+00,  4.99997528e+00,\n",
              "        5.99991052e+00,  9.99871475e-01,  2.96385140e-04, -2.43627342e-04])\n",
              "  message: 'CONVERGENCE: REL_REDUCTION_OF_F_<=_FACTR*EPSMCH'\n",
              "     nfev: 735\n",
              "      nit: 30\n",
              "     njev: 35\n",
              "   status: 0\n",
              "  success: True\n",
              "        x: array([0.        , 0.        , 0.        , 0.        , 0.        ,\n",
              "       0.        , 1.64285525, 1.65714065, 1.67142753, 1.68571355,\n",
              "       0.        , 0.        , 0.        , 0.        , 0.        ,\n",
              "       0.        , 0.        , 0.        , 1.71428422, 1.62856756])"
            ]
          },
          "metadata": {},
          "execution_count": 30
        }
      ],
      "source": [
        "from scipy import optimize\n",
        "\n",
        "alpha_initial = np.zeros(X.shape[1])\n",
        "res = optimize.minimize(f, \n",
        "                  alpha_initial, \n",
        "                  bounds = optimize.Bounds(0,np.inf)\n",
        "                )\n",
        "\n",
        "res\n"
      ]
    },
    {
      "cell_type": "code",
      "source": [
        "alpha_star = res.x\n",
        "alpha_star"
      ],
      "metadata": {
        "colab": {
          "base_uri": "https://localhost:8080/"
        },
        "id": "tadHI_YiyJUv",
        "outputId": "22e430ca-af3c-4fba-ffff-14ec10903f93"
      },
      "execution_count": null,
      "outputs": [
        {
          "output_type": "execute_result",
          "data": {
            "text/plain": [
              "array([0.        , 0.        , 0.        , 0.        , 0.        ,\n",
              "       0.        , 1.64285525, 1.65714065, 1.67142753, 1.68571355,\n",
              "       0.        , 0.        , 0.        , 0.        , 0.        ,\n",
              "       0.        , 0.        , 0.        , 1.71428422, 1.62856756])"
            ]
          },
          "metadata": {},
          "execution_count": 32
        }
      ]
    },
    {
      "cell_type": "markdown",
      "metadata": {
        "id": "hrruRySrPPJL"
      },
      "source": [
        "### Support vectors\n",
        "\n",
        "Find all the support vectors.\n",
        "\n",
        "Every support vectors lies on the supporting hyperplane. i.e \n",
        "$$\n",
        "(w^*)^Tx = \\pm1\n",
        "$$"
      ]
    },
    {
      "cell_type": "code",
      "execution_count": null,
      "metadata": {
        "id": "d7JTzQniPZsg",
        "colab": {
          "base_uri": "https://localhost:8080/"
        },
        "outputId": "082ad141-82d5-4ab4-adfb-9c39782cf948"
      },
      "outputs": [
        {
          "output_type": "execute_result",
          "data": {
            "text/plain": [
              "array([[ 2,  1,  0, -1,  3, -3],\n",
              "       [ 5,  2, -1, -4, 10, -8]])"
            ]
          },
          "metadata": {},
          "execution_count": 35
        }
      ],
      "source": [
        "X[:,alpha_star > 0]"
      ]
    },
    {
      "cell_type": "markdown",
      "metadata": {
        "id": "VA4rcEt2NwCI"
      },
      "source": [
        "### Optimal weight vector (Primal solution)\n",
        "\n",
        "Find the optimal weight vector $\\mathbf{w}^*$."
      ]
    },
    {
      "cell_type": "code",
      "execution_count": null,
      "metadata": {
        "id": "WbIi8Snu6Qga",
        "colab": {
          "base_uri": "https://localhost:8080/"
        },
        "outputId": "856e7f56-c510-42a5-d442-7d6ffd2c1d90"
      },
      "outputs": [
        {
          "output_type": "stream",
          "name": "stdout",
          "text": [
            "[ 2.99998762 -1.00002588]\n"
          ]
        }
      ],
      "source": [
        "w_star = X @ Y @ alpha_star\n",
        "print(w_star)"
      ]
    },
    {
      "cell_type": "markdown",
      "metadata": {
        "id": "1pRJINcgRAWs"
      },
      "source": [
        "### Decision Boundary\n",
        "\n",
        "Plot the decision boundary along with the supporting hyperplanes. Note where the support vectors lie in this plot."
      ]
    },
    {
      "cell_type": "code",
      "execution_count": null,
      "metadata": {
        "id": "2YiYiZyZbRUK",
        "colab": {
          "base_uri": "https://localhost:8080/",
          "height": 488
        },
        "outputId": "921a8bf3-81b3-466c-f97f-ce663f382dd9"
      },
      "outputs": [
        {
          "output_type": "display_data",
          "data": {
            "text/plain": [
              "<Figure size 576x576 with 1 Axes>"
            ],
            "image/png": "[encoded data removed]"
          },
          "metadata": {
            "needs_background": "light"
          }
        }
      ],
      "source": [
        "color = np.array([\"dummy\",\"green\",\"red\"])\n",
        "plt.scatter(X[0],X[1],c=color[y])\n",
        "###########MODEL#####################\n",
        "#w[0] * x + w[1] * y = 0\n",
        "\n",
        "w = w_star\n",
        "\n",
        "x = np.linspace(-5,5)\n",
        "y = -w[0] / w[1] * x\n",
        "plt.plot(x,y)\n",
        "##########SUPPORTING HYPERPLANES###########\n",
        "y = -w[0] / w[1] * x + 1 / w[1]\n",
        "plt.plot(x,y)\n",
        "\n",
        "y = -w[0] / w[1] * x - 1 / w[1]\n",
        "plt.plot(x,y)\n",
        "\n",
        "plt.show()"
      ]
    },
    {
      "cell_type": "markdown",
      "metadata": {
        "id": "dsM9fbm_R-Vb"
      },
      "source": [
        "## Soft-margin SVM\n",
        "\n",
        "We now turn to soft-margin SVMs. Adapt the hard-margin code that you have written for the soft-margin problem. The only change you have to make is to introduce an upper bound for $\\boldsymbol{\\alpha}$, which is the hyperparameter $C$.\n"
      ]
    },
    {
      "cell_type": "code",
      "execution_count": null,
      "metadata": {
        "id": "OXSn3CvMS-iT"
      },
      "outputs": [],
      "source": [
        "#### DATA: DO NOT EDIT THIS CELL ####\n",
        "X = np.array([[1, -3], [1, 0], [4, 1], [3, 7], [0, -2],\n",
        "             [-1, -6], [2, 5], [1, 2], [0, -1], [-1, -4],\n",
        "             [0, 7], [1, 5], [-4, 4], [2, 9], [-2, 2],\n",
        "             [-2, 0], [-3, -2], [-2, -4], [3, 10], [-3, -8],\n",
        "             [0, 0], [2, 7]]).T\n",
        "y = np.array([1, 1, 1, 1, 1, \n",
        "             1, 1, 1, 1, 1,\n",
        "             -1, -1, -1, -1, -1, \n",
        "             -1, -1, -1, -1, -1,\n",
        "              1, 1])"
      ]
    },
    {
      "cell_type": "markdown",
      "metadata": {
        "id": "1fngF_sW-jKD"
      },
      "source": [
        "### Relationship between $C$ and margin\n",
        "\n",
        "Plot the decision boundary and the supporting hyperplane for the following values of $C$.\n",
        "\n",
        "(1) $C = 0.01$\n",
        "\n",
        "(2) $C = 0.1$\n",
        "\n",
        "(3) $C = 1$\n",
        "\n",
        "(4) $C = 10$\n",
        "\n",
        "Plot all of them in a $2 \\times 2$ subplot. Study the tradeoff between the following quantities:\n",
        "\n",
        "(1) Width of the margin.\n",
        "\n",
        "(2) Number of points that lie within the margin or on the wrong side. This is often called **margin violation**.\n"
      ]
    },
    {
      "cell_type": "code",
      "source": [
        "Y = np.diag(y)\n",
        "\n",
        "Q = Y.T @ X.T @ X @ Y\n",
        "\n",
        "def f(alpha):\n",
        "    return 0.5 * alpha @ Q @ alpha - alpha.sum()\n"
      ],
      "metadata": {
        "id": "7lmZrJtQ4J3-"
      },
      "execution_count": null,
      "outputs": []
    },
    {
      "cell_type": "code",
      "source": [
        "def Plot(X,y,w_star, C):\n",
        "    color = np.array([\"dummy\",\"green\",\"red\"])\n",
        "    plt.scatter(X[0],X[1],c=color[y])\n",
        "    ###########MODEL#####################\n",
        "    #w[0] * x + w[1] * y = 0\n",
        "    w = w_star\n",
        "    x = np.linspace(-5,5)\n",
        "    y = -w[0] / w[1] * x\n",
        "    plt.plot(x,y)\n",
        "    ##########SUPPORTING HYPERPLANES###########\n",
        "    y = -w[0] / w[1] * x + 1 / w[1]\n",
        "    plt.plot(x,y)\n",
        "\n",
        "    y = -w[0] / w[1] * x - 1 / w[1]\n",
        "    plt.plot(x,y)\n",
        "    plt.title(f'C = {C}')\n",
        "    return"
      ],
      "metadata": {
        "id": "nMS2qac64-2L"
      },
      "execution_count": null,
      "outputs": []
    },
    {
      "cell_type": "code",
      "source": [
        "sub_plot = 1\n",
        "for C in [0.01, 0.1, 1, 10]:\n",
        "    plt.subplot(2,2,sub_plot)\n",
        "    sub_plot += 1\n",
        "\n",
        "    alpha_initial = np.zeros(X.shape[1])\n",
        "    res = optimize.minimize(f, \n",
        "                  alpha_initial, \n",
        "                  bounds = optimize.Bounds(0,C)\n",
        "                )\n",
        "    alpha_star = res.x\n",
        "    w_star = X @ Y @ alpha_star\n",
        "    Plot(X,y,w_star, C)\n"
      ],
      "metadata": {
        "colab": {
          "base_uri": "https://localhost:8080/",
          "height": 508
        },
        "id": "HFjnzrON4JCo",
        "outputId": "7e05adec-84cb-4658-f7ed-e830b6f10582"
      },
      "execution_count": null,
      "outputs": [
        {
          "output_type": "display_data",
          "data": {
            "text/plain": [
              "<Figure size 576x576 with 4 Axes>"
            ],
            "image/png": "[encoded data removed]"
          },
          "metadata": {
            "needs_background": "light"
          }
        }
      ]
    },
    {
      "cell_type": "markdown",
      "metadata": {
        "id": "LAHR_IChAq4f"
      },
      "source": [
        "### Support vectors\n",
        "\n",
        "For $C = 10$, study the number of support vectors that the model has."
      ]
    },
    {
      "cell_type": "code",
      "execution_count": null,
      "metadata": {
        "id": "HAnccH_-CRqA"
      },
      "outputs": [],
      "source": [
        "alpha_initial = np.zeros(X.shape[1])\n",
        "res = optimize.minimize(f, \n",
        "                  alpha_initial, \n",
        "                  bounds = optimize.Bounds(0,10)\n",
        "                )\n",
        "alpha_star = res.x\n",
        "w_star = X @ Y @ alpha_star"
      ]
    },
    {
      "cell_type": "code",
      "source": [
        "w_star"
      ],
      "metadata": {
        "colab": {
          "base_uri": "https://localhost:8080/"
        },
        "id": "49tOaBtZ7F7C",
        "outputId": "97a90f62-6cb0-4bf8-9156-5cf8b76de144"
      },
      "execution_count": null,
      "outputs": [
        {
          "output_type": "execute_result",
          "data": {
            "text/plain": [
              "array([ 2.99997405, -0.99999339])"
            ]
          },
          "metadata": {},
          "execution_count": 69
        }
      ]
    },
    {
      "cell_type": "code",
      "source": [
        "X[:,alpha_star > 0]"
      ],
      "metadata": {
        "colab": {
          "base_uri": "https://localhost:8080/"
        },
        "id": "RHJkkGli7otG",
        "outputId": "1643e5c6-a55c-45e9-ef72-b45ae011c959"
      },
      "execution_count": null,
      "outputs": [
        {
          "output_type": "execute_result",
          "data": {
            "text/plain": [
              "array([[ 2,  1,  0, -1,  3, -3,  0,  2],\n",
              "       [ 5,  2, -1, -4, 10, -8,  0,  7]])"
            ]
          },
          "metadata": {},
          "execution_count": 68
        }
      ]
    }
  ],
  "metadata": {
    "colab": {
      "provenance": [],
      "include_colab_link": true
    },
    "kernelspec": {
      "display_name": "Python 3",
      "name": "python3"
    },
    "language_info": {
      "name": "python"
    }
  },
  "nbformat": 4,
  "nbformat_minor": 0
}