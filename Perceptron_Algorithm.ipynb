{
  "nbformat": 4,
  "nbformat_minor": 0,
  "metadata": {
    "colab": {
      "provenance": [],
      "include_colab_link": true
    },
    "kernelspec": {
      "name": "python3",
      "display_name": "Python 3"
    },
    "language_info": {
      "name": "python"
    }
  },
  "cells": [
    {
      "cell_type": "markdown",
      "metadata": {
        "id": "view-in-github",
        "colab_type": "text"
      },
      "source": [
        "<a href=\"https://colab.research.google.com/github/kkamal11/MLT/blob/main/Perceptron_Algorithm.ipynb\" target=\"_parent\"><img src=\"https://colab.research.google.com/assets/colab-badge.svg\" alt=\"Open In Colab\"/></a>"
      ]
    },
    {
      "cell_type": "code",
      "source": [
        "import numpy as np\n",
        "from matplotlib import pyplot as plt"
      ],
      "metadata": {
        "id": "45x2mwCNs1Ee"
      },
      "execution_count": 23,
      "outputs": []
    },
    {
      "cell_type": "markdown",
      "source": [
        "## Dataset\n",
        "\n"
      ],
      "metadata": {
        "id": "XJKrscLo9qwH"
      }
    },
    {
      "cell_type": "markdown",
      "source": [
        "make_classification is used for creating synthetic classification dataset\n",
        "- n_samples: no of samples\n",
        "- n_features: no of features\n",
        "- n_informative: no of informative features\n",
        "- n_redundant: no of redundant features\n",
        "- n_cluster_per_class:\n",
        "- flip_y:"
      ],
      "metadata": {
        "id": "RSYGtCt2xcE1"
      }
    },
    {
      "cell_type": "code",
      "source": [
        "from sklearn.datasets import make_classification\n",
        "X, y = make_classification(n_samples=50, n_features=2, n_informative = 2, n_redundant = 0, n_clusters_per_class = 1, flip_y = 0, class_sep = 3, random_state=20)"
      ],
      "metadata": {
        "id": "d_H2VRQNsLly"
      },
      "execution_count": 16,
      "outputs": []
    },
    {
      "cell_type": "markdown",
      "source": [
        "## 1\n",
        "How many samples are there in the dataset?\n"
      ],
      "metadata": {
        "id": "VAONMkaU91v7"
      }
    },
    {
      "cell_type": "code",
      "source": [
        "X[:3]"
      ],
      "metadata": {
        "colab": {
          "base_uri": "https://localhost:8080/"
        },
        "id": "i6vHpzJXw9dX",
        "outputId": "1ddd5477-b645-445d-e8fa-acb22ce14a25"
      },
      "execution_count": 17,
      "outputs": [
        {
          "output_type": "execute_result",
          "data": {
            "text/plain": [
              "array([[ 4.35809465, -4.19871954],\n",
              "       [ 2.70007032, -2.60830647],\n",
              "       [ 2.92613113, -2.17831489]])"
            ]
          },
          "metadata": {},
          "execution_count": 17
        }
      ]
    },
    {
      "cell_type": "code",
      "source": [
        "X.shape[0]"
      ],
      "metadata": {
        "id": "WaLhumdSko3g",
        "colab": {
          "base_uri": "https://localhost:8080/"
        },
        "outputId": "be3127a8-61fa-4a6f-ae95-f097d081dfa2"
      },
      "execution_count": 18,
      "outputs": [
        {
          "output_type": "execute_result",
          "data": {
            "text/plain": [
              "50"
            ]
          },
          "metadata": {},
          "execution_count": 18
        }
      ]
    },
    {
      "cell_type": "markdown",
      "source": [
        "## 2\n",
        "\n",
        "How many features are there in the dataset?\n"
      ],
      "metadata": {
        "id": "ozjMS6e_91y3"
      }
    },
    {
      "cell_type": "code",
      "source": [
        "X.shape[1]"
      ],
      "metadata": {
        "colab": {
          "base_uri": "https://localhost:8080/"
        },
        "id": "pKTwbYCvw6oU",
        "outputId": "04784946-03f5-4d2f-e11f-9cd3a12a54c3"
      },
      "execution_count": 19,
      "outputs": [
        {
          "output_type": "execute_result",
          "data": {
            "text/plain": [
              "2"
            ]
          },
          "metadata": {},
          "execution_count": 19
        }
      ]
    },
    {
      "cell_type": "markdown",
      "source": [
        "## 3\n",
        "In the target vector $y$, replace all occurrences of 0 with -1. \n",
        "\n"
      ],
      "metadata": {
        "id": "BOuGvyBUrGUH"
      }
    },
    {
      "cell_type": "code",
      "source": [
        "y"
      ],
      "metadata": {
        "colab": {
          "base_uri": "https://localhost:8080/"
        },
        "id": "f03Rn5K7xNka",
        "outputId": "be24d4a0-812a-4c3b-9390-1b09594a2acf"
      },
      "execution_count": 20,
      "outputs": [
        {
          "output_type": "execute_result",
          "data": {
            "text/plain": [
              "array([1, 1, 1, 1, 1, 1, 1, 0, 0, 1, 0, 0, 0, 1, 0, 0, 1, 1, 0, 1, 0, 1,\n",
              "       0, 0, 1, 0, 1, 0, 1, 1, 0, 1, 0, 1, 0, 1, 1, 0, 0, 0, 0, 1, 1, 0,\n",
              "       0, 0, 0, 1, 1, 0])"
            ]
          },
          "metadata": {},
          "execution_count": 20
        }
      ]
    },
    {
      "cell_type": "code",
      "source": [
        "y[y == 0] = -1"
      ],
      "metadata": {
        "id": "BxNlSI-1ktMm"
      },
      "execution_count": 21,
      "outputs": []
    },
    {
      "cell_type": "code",
      "source": [
        "y"
      ],
      "metadata": {
        "colab": {
          "base_uri": "https://localhost:8080/"
        },
        "id": "WDNeNTZdxMd1",
        "outputId": "3e666fbb-c325-461c-c67b-378c010b332e"
      },
      "execution_count": 22,
      "outputs": [
        {
          "output_type": "execute_result",
          "data": {
            "text/plain": [
              "array([ 1,  1,  1,  1,  1,  1,  1, -1, -1,  1, -1, -1, -1,  1, -1, -1,  1,\n",
              "        1, -1,  1, -1,  1, -1, -1,  1, -1,  1, -1,  1,  1, -1,  1, -1,  1,\n",
              "       -1,  1,  1, -1, -1, -1, -1,  1,  1, -1, -1, -1, -1,  1,  1, -1])"
            ]
          },
          "metadata": {},
          "execution_count": 22
        }
      ]
    },
    {
      "cell_type": "markdown",
      "source": [
        "## 4\n",
        "\n",
        "How many unique classes are there in the target vector?\n"
      ],
      "metadata": {
        "id": "bfVN77a0UKxN"
      }
    },
    {
      "cell_type": "code",
      "source": [
        "np.unique(y)"
      ],
      "metadata": {
        "id": "4UeSyZ1Lkuu4",
        "colab": {
          "base_uri": "https://localhost:8080/"
        },
        "outputId": "4e6fff60-7bb2-4024-da81-5a610f74165d"
      },
      "execution_count": 14,
      "outputs": [
        {
          "output_type": "execute_result",
          "data": {
            "text/plain": [
              "array([-1,  1])"
            ]
          },
          "metadata": {},
          "execution_count": 14
        }
      ]
    },
    {
      "cell_type": "markdown",
      "source": [
        "## 5\n",
        "Plot the data keeping first feature on the x-axis and the second feature on the y-axis. Plot the data points belonging to each class in different colors. Does the data seem linearly separable?"
      ],
      "metadata": {
        "id": "2mjZDVoIqzkJ"
      }
    },
    {
      "cell_type": "code",
      "source": [
        "X[:,0][y == 1]"
      ],
      "metadata": {
        "colab": {
          "base_uri": "https://localhost:8080/"
        },
        "id": "ME9zLchW1Oyj",
        "outputId": "107b0564-ef12-4514-ac41-579380f1c6bf"
      },
      "execution_count": 38,
      "outputs": [
        {
          "output_type": "execute_result",
          "data": {
            "text/plain": [
              "array([4.35809465, 2.70007032, 2.92613113, 2.70492468, 1.40403442,\n",
              "       3.03688252, 2.74256066, 3.55224854, 4.2121494 , 3.56210053,\n",
              "       1.19234332, 1.94746997, 3.09959095, 3.77398178, 1.95338326,\n",
              "       4.13223512, 3.61161689, 2.28603659, 3.27785771, 3.44739526,\n",
              "       2.43697964, 2.3377644 , 3.47758161, 0.85750064, 3.21773047])"
            ]
          },
          "metadata": {},
          "execution_count": 38
        }
      ]
    },
    {
      "cell_type": "code",
      "source": [
        "plt.plot(X[:,0][y == -1],X[:,1][y == -1],'ro')  #since we are using plot instead of scatter we need to pass the marker 'o'\n",
        "plt.plot(X[:,0][y == 1],X[:,1][y == 1],'gD')\n",
        "plt.show()"
      ],
      "metadata": {
        "id": "PP114fY1kwRG",
        "colab": {
          "base_uri": "https://localhost:8080/",
          "height": 265
        },
        "outputId": "bca08ceb-fce1-496b-8eef-5b5785e912c9"
      },
      "execution_count": 96,
      "outputs": [
        {
          "output_type": "display_data",
          "data": {
            "text/plain": [
              "<Figure size 432x288 with 1 Axes>"
            ],
            "image/png": "[encoded data removed]"
          },
          "metadata": {
            "needs_background": "light"
          }
        }
      ]
    },
    {
      "cell_type": "markdown",
      "source": [
        "## 6\n",
        "Initialize w to be a zero vector, with shape equal to the number of features in the data.\n",
        "\n"
      ],
      "metadata": {
        "id": "wBvVzKA-u9YM"
      }
    },
    {
      "cell_type": "code",
      "source": [
        "w = np.zeros(X.shape[1])\n",
        "w"
      ],
      "metadata": {
        "id": "LiKOIWphkyu0",
        "colab": {
          "base_uri": "https://localhost:8080/"
        },
        "outputId": "b4a40fd6-ab05-4333-a6bd-3825ae768447"
      },
      "execution_count": 87,
      "outputs": [
        {
          "output_type": "execute_result",
          "data": {
            "text/plain": [
              "array([0., 0.])"
            ]
          },
          "metadata": {},
          "execution_count": 87
        }
      ]
    },
    {
      "cell_type": "markdown",
      "source": [
        "## 7 \n",
        "Iterate over each data point $x$ in $X$ one by one (in the same sequence as present in $X$). For each data point, compute the value of $w^Tx$. If $w^Tx \\ge 0$, predict positive class for $x$, else predict the negative class.\n",
        "\n",
        "(In the same code,) If prediction does not match the actual class label for any data point, update the weight vector as per the following update rule:\n",
        "$$w_{new} = w_{old} + xy$$ where $x$ is the data point and $y$ is the actual label of $x$.\n",
        "\n"
      ],
      "metadata": {
        "id": "Mpalp-L_Tw12"
      }
    },
    {
      "cell_type": "code",
      "source": [
        "num_of_mistake = 0\n",
        "\n",
        "for i in range(len(X)):\n",
        "   y_pred = 1 if w.T @ X[i] >= 0 else -1\n",
        "   if y_pred == y[i]:\n",
        "       pass\n",
        "   else:\n",
        "       w = w + X[i]*y[i]\n",
        "       num_of_mistake += 1"
      ],
      "metadata": {
        "id": "fK6JN6fSk0Rr"
      },
      "execution_count": 60,
      "outputs": []
    },
    {
      "cell_type": "code",
      "source": [
        "num_of_mistake,w"
      ],
      "metadata": {
        "id": "sW64JVR7k1xs",
        "colab": {
          "base_uri": "https://localhost:8080/"
        },
        "outputId": "9cb816fb-c463-46d9-98f8-6ede470570ac"
      },
      "execution_count": 58,
      "outputs": [
        {
          "output_type": "execute_result",
          "data": {
            "text/plain": [
              "(2, array([ 6.08372134, -0.97979197]))"
            ]
          },
          "metadata": {},
          "execution_count": 58
        }
      ]
    },
    {
      "cell_type": "markdown",
      "source": [
        "## 9\n",
        "(In the same code,) keep track of the total number of mistakes made by the algorithm."
      ],
      "metadata": {
        "id": "rqxusBe6V3vb"
      }
    },
    {
      "cell_type": "markdown",
      "source": [
        "## 10.\n",
        "So far, we have run only one iteration over the entire data.\n",
        "\n",
        "Run the same for 10 epochs (iterations), but stop if there are no weight updates in an epoch. "
      ],
      "metadata": {
        "id": "BW_E9evkVXoY"
      }
    },
    {
      "cell_type": "code",
      "source": [
        "w = np.zeros(X.shape[1])"
      ],
      "metadata": {
        "id": "Id7Ic2Iy7Faz"
      },
      "execution_count": 90,
      "outputs": []
    },
    {
      "cell_type": "code",
      "source": [
        "num_of_mistakes = 0\n",
        "weight_update_per_epoch = {}\n",
        "\n",
        "for epoch in range(10):\n",
        "    weight_update_per_epoch[epoch] = 0\n",
        "    for i in range(len(X)):\n",
        "        y_pred = 1 if w.T @ X[i] >= 0 else -1\n",
        "        if y[i] == y_pred:\n",
        "            pass\n",
        "        else:\n",
        "            w = w + X[i]*y[i]\n",
        "            weight_update_per_epoch[epoch] += 1\n",
        "    if weight_update_per_epoch[epoch]:\n",
        "        num_of_mistakes += weight_update_per_epoch[epoch]\n",
        "    else:\n",
        "        break\n",
        "\n",
        "print(\"Total mistakes\",num_of_mistakes)\n",
        "print(\"Epoch in which algo terminated\",epoch)"
      ],
      "metadata": {
        "id": "gVeeVk3ek5A9",
        "colab": {
          "base_uri": "https://localhost:8080/"
        },
        "outputId": "db71dfa1-c31c-445d-c2fa-b83aeab49a57"
      },
      "execution_count": 91,
      "outputs": [
        {
          "output_type": "stream",
          "name": "stdout",
          "text": [
            "Total mistakes 2\n",
            "Epoch in which algo terminated 1\n"
          ]
        }
      ]
    },
    {
      "cell_type": "code",
      "source": [
        "print(weight_update_per_epoch)"
      ],
      "metadata": {
        "colab": {
          "base_uri": "https://localhost:8080/"
        },
        "id": "4qOkwm448bI-",
        "outputId": "a8dbffa0-6354-4852-a074-3d6fddabcb9d"
      },
      "execution_count": 92,
      "outputs": [
        {
          "output_type": "stream",
          "name": "stdout",
          "text": [
            "{0: 2, 1: 0}\n"
          ]
        }
      ]
    },
    {
      "cell_type": "code",
      "source": [
        "print(w)"
      ],
      "metadata": {
        "colab": {
          "base_uri": "https://localhost:8080/"
        },
        "id": "X0b9gbWs4JlV",
        "outputId": "ab151f62-5223-4478-f8f4-361f8e6e1853"
      },
      "execution_count": 93,
      "outputs": [
        {
          "output_type": "stream",
          "name": "stdout",
          "text": [
            "[ 6.08372134 -0.97979197]\n"
          ]
        }
      ]
    },
    {
      "cell_type": "markdown",
      "source": [
        "## 11\n",
        "\n",
        "Plot the vector w and the decision boundary thus obtained.\n"
      ],
      "metadata": {
        "id": "3zs84_zyUMZG"
      }
    },
    {
      "cell_type": "code",
      "source": [
        "plt.plot(X[:,0][y == -1],X[:,1][y == -1],'ro') \n",
        "plt.plot(X[:,0][y == 1],X[:,1][y == 1],'go')\n",
        "plt.quiver(0,0,w[0],w[1],scale=20,color='b')\n",
        "plt.quiver(0,0,-w[1],w[0],scale=20,color='y',headaxislength=0,headlength=0)\n",
        "plt.quiver(0,0,w[1],-w[0],scale=20,color='y',headaxislength=0,headlength=0)\n",
        "plt.grid()\n",
        "plt.ylim(-7,7)\n",
        "plt.show()"
      ],
      "metadata": {
        "id": "oqhetLzMk8TJ",
        "colab": {
          "base_uri": "https://localhost:8080/",
          "height": 265
        },
        "outputId": "bc1e4f91-1ab3-4933-aa90-d1808a423730"
      },
      "execution_count": 110,
      "outputs": [
        {
          "output_type": "display_data",
          "data": {
            "text/plain": [
              "<Figure size 432x288 with 1 Axes>"
            ],
            "image/png": "[encoded data removed]"
          },
          "metadata": {
            "needs_background": "light"
          }
        }
      ]
    },
    {
      "cell_type": "markdown",
      "source": [
        "## 12\n",
        "What is the value of loss using the weight vector obtained earlier?  \n"
      ],
      "metadata": {
        "id": "8jRORev-U_AQ"
      }
    },
    {
      "cell_type": "code",
      "source": [
        "def loss(X,y,w):\n",
        "    lss = 0\n",
        "    for i in range(len(X)):\n",
        "        y_pred = 1 if w.T @ X[i] >= 0 else -1\n",
        "        if y_pred != y[i]:\n",
        "            lss += 1\n",
        "    return lss\n",
        "print(loss(X,y,w))"
      ],
      "metadata": {
        "id": "4so01KGRk90S",
        "colab": {
          "base_uri": "https://localhost:8080/"
        },
        "outputId": "95227225-82b3-44aa-cb64-7888e86b39e3"
      },
      "execution_count": 114,
      "outputs": [
        {
          "output_type": "stream",
          "name": "stdout",
          "text": [
            "0\n"
          ]
        }
      ]
    },
    {
      "cell_type": "markdown",
      "source": [
        "# Non-linearly separable case"
      ],
      "metadata": {
        "id": "LgY3CUuwaFRI"
      }
    },
    {
      "cell_type": "markdown",
      "source": [
        "## 13\n",
        "Now use a data set that is not linearly separable. Replace occurrences of 0 with -1 and visualize.\n",
        "\n"
      ],
      "metadata": {
        "id": "6Mv5kTYtVZ39"
      }
    },
    {
      "cell_type": "code",
      "source": [
        "from sklearn.datasets import make_classification\n",
        "X, y = make_classification(n_samples=50, n_features=2, n_informative = 2, n_redundant = 0, n_clusters_per_class = 1, flip_y = 0.1, class_sep = 2, random_state=20)"
      ],
      "metadata": {
        "id": "27pznw-oVeFq"
      },
      "execution_count": 115,
      "outputs": []
    },
    {
      "cell_type": "code",
      "source": [
        "y[y == 0] = -1"
      ],
      "metadata": {
        "id": "AzyBnGwaA-h8"
      },
      "execution_count": 117,
      "outputs": []
    },
    {
      "cell_type": "code",
      "source": [
        "plt.plot(X[:,0][y == -1],X[:,1][y == -1],'r*')\n",
        "plt.plot(X[:,0][y == 1],X[:,1][y == 1],'gD')\n",
        "plt.show()"
      ],
      "metadata": {
        "id": "FL5Hj8dYlGbQ",
        "colab": {
          "base_uri": "https://localhost:8080/",
          "height": 265
        },
        "outputId": "d935c08e-1e8d-4ca9-e9c0-1f1c2a65535b"
      },
      "execution_count": 118,
      "outputs": [
        {
          "output_type": "display_data",
          "data": {
            "text/plain": [
              "<Figure size 432x288 with 1 Axes>"
            ],
            "image/png": "[encoded data removed]"
          },
          "metadata": {
            "needs_background": "light"
          }
        }
      ]
    },
    {
      "cell_type": "markdown",
      "source": [
        "## 14\n",
        "\n",
        "Apply the Perceptron code again. \n",
        "\n",
        "What is the number of weight updates performed in each epoch?\n"
      ],
      "metadata": {
        "id": "jLlsj651cjtm"
      }
    },
    {
      "cell_type": "code",
      "source": [
        "w = np.zeros(X.shape[1])"
      ],
      "metadata": {
        "id": "s2djYkFiAQJH"
      },
      "execution_count": 119,
      "outputs": []
    },
    {
      "cell_type": "code",
      "source": [
        "num_of_mistakes = 0\n",
        "weight_update_per_epoch = {}\n",
        "\n",
        "for epoch in range(10):\n",
        "    weight_update_per_epoch[epoch] = 0\n",
        "    for i in range(len(X)):\n",
        "        y_pred = 1 if w.T @ X[i] >= 0 else -1\n",
        "        if y[i] == y_pred:\n",
        "            pass\n",
        "        else:\n",
        "            w = w + X[i]*y[i]\n",
        "            weight_update_per_epoch[epoch] += 1\n",
        "    if weight_update_per_epoch[epoch]:\n",
        "        num_of_mistakes += weight_update_per_epoch[epoch]\n",
        "    else:\n",
        "        break\n",
        "\n",
        "print(\"Total mistakes\",num_of_mistakes)\n",
        "print(\"Epoch in which algo terminated\",epoch)"
      ],
      "metadata": {
        "id": "iwR77G-HlFx_",
        "colab": {
          "base_uri": "https://localhost:8080/"
        },
        "outputId": "ea7c6793-7686-4b5b-e883-97d775af9673"
      },
      "execution_count": 120,
      "outputs": [
        {
          "output_type": "stream",
          "name": "stdout",
          "text": [
            "Total mistakes 112\n",
            "Epoch in which algo terminated 9\n"
          ]
        }
      ]
    },
    {
      "cell_type": "code",
      "source": [
        "print(weight_update_per_epoch)\n",
        "print(w)"
      ],
      "metadata": {
        "colab": {
          "base_uri": "https://localhost:8080/"
        },
        "id": "x0xje_RRBJrF",
        "outputId": "1504f5c4-e87d-4711-f192-285250c20100"
      },
      "execution_count": 121,
      "outputs": [
        {
          "output_type": "stream",
          "name": "stdout",
          "text": [
            "{0: 13, 1: 11, 2: 12, 3: 11, 4: 11, 5: 10, 6: 11, 7: 11, 8: 11, 9: 11}\n",
            "[ 2.8171108  -0.63769675]\n"
          ]
        }
      ]
    },
    {
      "cell_type": "code",
      "source": [
        "print(loss(X,y,w))"
      ],
      "metadata": {
        "colab": {
          "base_uri": "https://localhost:8080/"
        },
        "id": "pdaxbtoZBPQg",
        "outputId": "72c00941-1dac-4967-b6b6-a9ef67f1295d"
      },
      "execution_count": 122,
      "outputs": [
        {
          "output_type": "stream",
          "name": "stdout",
          "text": [
            "4\n"
          ]
        }
      ]
    }
  ]
}