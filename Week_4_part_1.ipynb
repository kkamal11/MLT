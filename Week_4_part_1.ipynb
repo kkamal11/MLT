{
  "nbformat": 4,
  "nbformat_minor": 0,
  "metadata": {
    "colab": {
      "provenance": [],
      "collapsed_sections": [],
      "include_colab_link": true
    },
    "kernelspec": {
      "name": "python3",
      "display_name": "Python 3"
    },
    "language_info": {
      "name": "python"
    }
  },
  "cells": [
    {
      "cell_type": "markdown",
      "metadata": {
        "id": "view-in-github",
        "colab_type": "text"
      },
      "source": [
        "<a href=\"https://colab.research.google.com/github/kkamal11/MLT/blob/main/Week_4_part_1.ipynb\" target=\"_parent\"><img src=\"https://colab.research.google.com/assets/colab-badge.svg\" alt=\"Open In Colab\"/></a>"
      ]
    },
    {
      "cell_type": "markdown",
      "source": [
        "# Week-4: Part-1\n"
      ],
      "metadata": {
        "id": "53TcQvUOjGxr"
      }
    },
    {
      "cell_type": "code",
      "source": [
        "import numpy as np\n",
        "import matplotlib.pyplot as plt\n",
        "# Set size of figure\n",
        "plt.rcParams['figure.figsize'] = [8, 8]\n",
        "# Set size of font\n",
        "plt.rcParams['font.size'] = 10"
      ],
      "metadata": {
        "id": "FasmVZvHPgMW"
      },
      "execution_count": 2,
      "outputs": []
    },
    {
      "cell_type": "markdown",
      "source": [
        "## Sampling\n",
        "\n",
        "Sampling from a distribution is an important skill. While learning ML, it is often a good idea to work with toy-datasets. These toy-datasets can be generated from well known distributions such as the Bernoulli and Gaussian. The next section will introduce the idea of sampling in NumPy."
      ],
      "metadata": {
        "id": "7A9Gri4ZP1oK"
      }
    },
    {
      "cell_type": "markdown",
      "source": [
        "### Random number generator\n",
        "\n",
        "We can sample from distributions with the help of a random number generator:"
      ],
      "metadata": {
        "id": "-Pu7bCK2QsXZ"
      }
    },
    {
      "cell_type": "code",
      "source": [
        "rng = np.random.default_rng()"
      ],
      "metadata": {
        "id": "srJG5sWKQNj8"
      },
      "execution_count": 3,
      "outputs": []
    },
    {
      "cell_type": "markdown",
      "source": [
        "We will start by generating a dataset of ones and zeros. The following code generates a sample of size $10$."
      ],
      "metadata": {
        "id": "zupDoZTNQ6i0"
      }
    },
    {
      "cell_type": "code",
      "source": [
        "rng = np.random.default_rng(seed = 1001)  #the same number can be generated every time. The seed value can be any integer \n",
        "X = rng.integers(0, 2, size = 10)\n",
        "X"
      ],
      "metadata": {
        "colab": {
          "base_uri": "https://localhost:8080/"
        },
        "id": "aQqjseA3RYkB",
        "outputId": "24f2caaa-34f8-4ee3-bda0-3ecd8a02db28"
      },
      "execution_count": 4,
      "outputs": [
        {
          "output_type": "execute_result",
          "data": {
            "text/plain": [
              "array([1, 1, 1, 0, 1, 0, 1, 1, 0, 0])"
            ]
          },
          "metadata": {},
          "execution_count": 4
        }
      ]
    },
    {
      "cell_type": "markdown",
      "source": [
        "Notice that we have used a seed value as an argument to the random number generator. This is meant to ensure reproducability. That is, no matter how many times this cell is run, we will get the same sequence of random numbers. First run the cell a few times to verify that this is true. Now, run the cell with a different seed value and see what happens."
      ],
      "metadata": {
        "id": "1SMcmJIeRxNq"
      }
    },
    {
      "cell_type": "markdown",
      "source": [
        "## Problem-1\n",
        "\n",
        "For the dataset `X` given below, what is the maximum likelihood estimate of the mean if we use a Bernoulli distribution with parameter $p$ to model this data? Perform all your operations in the cell given below. Do not change the seed value. Enter your answer correct to three decimal places."
      ],
      "metadata": {
        "id": "3hZYSGhISplV"
      }
    },
    {
      "cell_type": "code",
      "source": [
        "### Data ###\n",
        "rng = np.random.default_rng(seed = 1001)\n",
        "X = rng.integers(0, 2, size = 1000)\n",
        "### Solution ###\n",
        "p_hat = X.mean()\n",
        "p_hat"
      ],
      "metadata": {
        "id": "9G8arNCoSiGs",
        "colab": {
          "base_uri": "https://localhost:8080/"
        },
        "outputId": "e94a3149-a327-48f8-b12f-54f249d1b75f"
      },
      "execution_count": 5,
      "outputs": [
        {
          "output_type": "execute_result",
          "data": {
            "text/plain": [
              "0.506"
            ]
          },
          "metadata": {},
          "execution_count": 5
        }
      ]
    },
    {
      "cell_type": "markdown",
      "source": [
        "What happens if we increase the size of the dataset to $10000$? We see that `np.integers` is only giving us observations from a discrete uniform distribution. In other words, if you think about it as a coin toss, the coin is unbiased. How do we generate samples from a biased coin or a Bernoulli distribution with $p \\neq 0.5$? We use a method called `choice`. This method \"chooses\" numbers from a list or an array based on the probabilities given to it in the array `p`."
      ],
      "metadata": {
        "id": "x3Xy5GoJTA4E"
      }
    },
    {
      "cell_type": "code",
      "source": [
        "rng = np.random.default_rng(seed = 1001)\n",
        "X = rng.choice([0, 1], size = 20, p = [0.2, 0.8])\n",
        "X"
      ],
      "metadata": {
        "colab": {
          "base_uri": "https://localhost:8080/"
        },
        "id": "8y-D9idxTb_H",
        "outputId": "dfc1d067-7b8a-4549-8dc0-a089eac0120e"
      },
      "execution_count": 6,
      "outputs": [
        {
          "output_type": "execute_result",
          "data": {
            "text/plain": [
              "array([1, 0, 0, 1, 0, 1, 1, 0, 0, 0, 0, 1, 1, 1, 1, 1, 1, 1, 0, 1])"
            ]
          },
          "metadata": {},
          "execution_count": 6
        }
      ]
    },
    {
      "cell_type": "markdown",
      "source": [
        "Note that the array `p` specifies the probabilities of $0$ and $1$."
      ],
      "metadata": {
        "id": "bem3q_teT25M"
      }
    },
    {
      "cell_type": "markdown",
      "source": [
        "## Problem-2\n",
        "\n",
        "Sample $1000$ points from a  Bernoulli distribution whose parameter is $p = 0.7$. Compute the maximum likelihood estimate of the parameter given this sample. Perform all your operations in the cell given below. Enter your answer correct to three decimal places.\n",
        "\n",
        "**Note**:\n",
        "\n",
        "- The parameter $p$ of a Bernoulli distribution always points to $P(x = 1)$.\n",
        "\n",
        "- It may seem pointless to compute the MLE when the parameter is already known to us. But this is a good exercise to verify our understanding of concepts with such toy-datasets."
      ],
      "metadata": {
        "id": "hlCA6LGoT_II"
      }
    },
    {
      "cell_type": "code",
      "source": [
        "### RNG ###\n",
        "rng = np.random.default_rng(seed = 1001)\n",
        "### Solution ###\n",
        "X = rng.choice([0, 1], size = 1000, p = [0.3, 0.7])\n",
        "print(np.sum(X)/1000)"
      ],
      "metadata": {
        "id": "w_-xhU84UPZZ",
        "colab": {
          "base_uri": "https://localhost:8080/"
        },
        "outputId": "ff2a7952-8f5e-417e-fcfe-780f1ce660a4"
      },
      "execution_count": 7,
      "outputs": [
        {
          "output_type": "stream",
          "name": "stdout",
          "text": [
            "0.707\n"
          ]
        }
      ]
    },
    {
      "cell_type": "markdown",
      "source": [
        "## Problem-3\n",
        "\n",
        "Plot a bar graph of the above sample. You can use the `plt.bar` method. To know more about a method in Google Colab type `plt.bar?` in a cell and run it."
      ],
      "metadata": {
        "id": "GBiZn4OIU0JX"
      }
    },
    {
      "cell_type": "code",
      "source": [
        "### Solution ###\n",
        "one_num = X.sum()\n",
        "zero_num = X.shape[0] - one_num\n",
        "plt.bar([0,1],[zero_num,one_num])\n",
        "plt.show()"
      ],
      "metadata": {
        "id": "PJh5VT-4U5YT",
        "colab": {
          "base_uri": "https://localhost:8080/",
          "height": 483
        },
        "outputId": "ae4ffe8c-0177-4632-bfea-a9b51bdf544e"
      },
      "execution_count": 9,
      "outputs": [
        {
          "output_type": "display_data",
          "data": {
            "text/plain": [
              "<Figure size 576x576 with 1 Axes>"
            ],
            "image/png": "[encoded data removed]"
          },
          "metadata": {
            "needs_background": "light"
          }
        }
      ]
    },
    {
      "cell_type": "markdown",
      "source": [
        "## Problem-4\n",
        "\n",
        "What is the impact of the size of the dataset on the MLE? Generate datasets of the following sizes:\n",
        "\n",
        "- $n = 10$\n",
        "- $n = 100$\n",
        "- $n = 1000$\n",
        "- $n = 10000$\n",
        "- $n = 100000$\n",
        "- $n = 1000000$\n",
        "\n",
        "Sample each dataset from a Bernoulli distribution with parameter $p = 0.2$. For each dataset, first compute the MLE and then compute the difference (abs value) between the MLE and the true parameter. That is, compute the value $d$ for different values of $n$\n",
        "\n",
        "$$\n",
        "d(n) = |\\hat{p}_{ML} - p|\n",
        "$$\n",
        "\n",
        "Plot $d(n)$ with respect to $n$. What do you osbserve?\n"
      ],
      "metadata": {
        "id": "YEN10JivYnpf"
      }
    },
    {
      "cell_type": "code",
      "source": [
        "### RNG ###\n",
        "rng = np.random.default_rng(seed = 1001)\n",
        "### Solution ###\n",
        "n = [10,100,1000,10000,100000,1000000]\n",
        "\n",
        "p = 0.2\n",
        "d = []\n",
        "\n",
        "for i in n:\n",
        "  X = rng.choice([0, 1], size = i, p = [0.2, 0.8])\n",
        "  p_ML = np.mean(X)\n",
        "  dist = abs(p_ML - p)\n",
        "  d.append(dist)\n",
        "print(d)\n",
        "plt.plot(n,d)\n",
        "plt.show()"
      ],
      "metadata": {
        "id": "cL_dR4SoZZDa",
        "colab": {
          "base_uri": "https://localhost:8080/",
          "height": 513
        },
        "outputId": "1be7fd02-e6be-49a7-fd6e-f15805c124dd"
      },
      "execution_count": 18,
      "outputs": [
        {
          "output_type": "stream",
          "name": "stdout",
          "text": [
            "[0.2, 0.5900000000000001, 0.6199999999999999, 0.5995999999999999, 0.5989500000000001, 0.5985929999999999]\n"
          ]
        },
        {
          "output_type": "display_data",
          "data": {
            "text/plain": [
              "<Figure size 576x576 with 1 Axes>"
            ],
            "image/png": "[encoded data removed]"
          },
          "metadata": {
            "needs_background": "light"
          }
        }
      ]
    },
    {
      "cell_type": "markdown",
      "source": [
        "## Problem-5\n",
        "\n",
        "Sample $1000$ points from a six sided, biased die with faces: $1, 2, 3, 4, 5, 6$. The parameters corresponding to the six faces are:\n",
        "\n",
        "$$\n",
        "[0.1, 0.2, 0.3, 0.3, 0.05, 0.05]\n",
        "$$\n",
        "\n",
        "Note that this is a categorical distribution. Refer to the practice assignment for a similar problem. Find the maximum likelihood estimate of the parameter $p_3$ (corresponds to the third face). Perform all your operations in the cell given below. Enter your answer correct to three decimal places."
      ],
      "metadata": {
        "id": "_pcJqb0kWEvu"
      }
    },
    {
      "cell_type": "code",
      "source": [
        "### RNG ###\n",
        "rng = np.random.default_rng(seed = 1001)\n",
        "### Solution ###\n",
        "X = rng.choice([1,2,3,4,5,6], size = 1000, p = [0.1,0.2,0.3,0.3,0.05,0.05])\n",
        "\n",
        "#A good estimate for p3 will be sample proportion \n",
        "count_of_3  = np.sum([1 if i == 3 else 0 for i in X])\n",
        "p3 = count_of_3/len(X)\n",
        "print(p3)"
      ],
      "metadata": {
        "id": "zDQQnX4_Xujg",
        "colab": {
          "base_uri": "https://localhost:8080/"
        },
        "outputId": "519e08b3-359c-46b4-fb8a-85bde0ed59cd"
      },
      "execution_count": 23,
      "outputs": [
        {
          "output_type": "stream",
          "name": "stdout",
          "text": [
            "0.319\n"
          ]
        }
      ]
    },
    {
      "cell_type": "markdown",
      "source": [
        "## Problem-6\n",
        "\n",
        "Plot the bar graph for the above sample."
      ],
      "metadata": {
        "id": "MowGk5GjYJT_"
      }
    },
    {
      "cell_type": "code",
      "source": [
        "## Solution ##\n",
        "def count(n,X):\n",
        "  return np.sum([1 if i == n else 0 for i in X])\n",
        "\n",
        "plt.bar([1,2,3,4,5,6],[count(j,X) for j in [1,2,3,4,5,6]])\n",
        "plt.show()"
      ],
      "metadata": {
        "id": "d6uwHy88Yw7N",
        "colab": {
          "base_uri": "https://localhost:8080/",
          "height": 483
        },
        "outputId": "2007ae00-eac1-4a3e-a2fe-29ca4a601721"
      },
      "execution_count": 26,
      "outputs": [
        {
          "output_type": "display_data",
          "data": {
            "text/plain": [
              "<Figure size 576x576 with 1 Axes>"
            ],
            "image/png": "[encoded data removed]"
          },
          "metadata": {
            "needs_background": "light"
          }
        }
      ]
    },
    {
      "cell_type": "markdown",
      "source": [
        "We now move to the Gaussian distribution. First, we shall get used to computing the density of a Gaussian given its mean and variance."
      ],
      "metadata": {
        "id": "YOPtgJ_4gSaY"
      }
    },
    {
      "cell_type": "markdown",
      "source": [
        "## Problem-7\n",
        "\n",
        "Consider the following Gaussian distribution:\n",
        "\n",
        "$$\n",
        "\\mathcal{N}(3, 1.5^2)\n",
        "$$\n",
        "\n",
        "Compute the density of the point $5$ with respect to this distribution. Enter your answer correct to three decimal places."
      ],
      "metadata": {
        "id": "GatC9VZtgckX"
      }
    },
    {
      "cell_type": "code",
      "source": [
        "## Solution ##\n",
        "def gaussian_pdf(x,mu,sigma):\n",
        "  num = np.exp((-(x-mu)**2)/(2*sigma**2))\n",
        "  dino = np.sqrt(2*np.pi)*sigma\n",
        "  return num/dino\n",
        "print(gaussian_pdf(5,3,1.5))"
      ],
      "metadata": {
        "id": "ydI-KzQQgtsb",
        "colab": {
          "base_uri": "https://localhost:8080/"
        },
        "outputId": "52961456-5a49-49bc-8534-1cd2cad1ed56"
      },
      "execution_count": 30,
      "outputs": [
        {
          "output_type": "stream",
          "name": "stdout",
          "text": [
            "0.10934004978399575\n"
          ]
        }
      ]
    },
    {
      "cell_type": "markdown",
      "source": [
        "Now, we shall move to sampling from a Gaussian distribution."
      ],
      "metadata": {
        "id": "8-FRiUbGg_IO"
      }
    },
    {
      "cell_type": "markdown",
      "source": [
        "## Problem-8\n",
        "\n",
        "Generate a dataset of $1000$ points from a Gaussian distribution with mean $3$ and standard deviation $1.5$. Find the maximum likelihood estimate of the mean for this dataset. Enter your answer correct to three decimal places. Use the cell given below for all your computations. You can search for the method to use from the NumPy docs. It is quite similar to what we did for the case of the Bernoulli and categorical distributions."
      ],
      "metadata": {
        "id": "ccDt9scAhLVG"
      }
    },
    {
      "cell_type": "code",
      "source": [
        "### RNG ###\n",
        "rng = np.random.default_rng(seed = 1001)\n",
        "### Solution ###\n",
        "s = np.random.normal(3, 1.5, 1000)\n",
        "print(np.mean(s))"
      ],
      "metadata": {
        "id": "XrufSsuYhacc",
        "colab": {
          "base_uri": "https://localhost:8080/"
        },
        "outputId": "2b5de06b-9135-495b-8707-ec7ba7b063e9"
      },
      "execution_count": 32,
      "outputs": [
        {
          "output_type": "stream",
          "name": "stdout",
          "text": [
            "2.9421232724037956\n"
          ]
        }
      ]
    },
    {
      "cell_type": "markdown",
      "source": [
        "## Problem-9\n",
        "\n",
        "Plot the histogram of the dataset given above. Use the `plt.hist` method."
      ],
      "metadata": {
        "id": "tnFOXcFLhkiD"
      }
    },
    {
      "cell_type": "code",
      "source": [
        "## Solution ##\n",
        "plt.hist(s,bins=10, ec=\"black\")\n",
        "plt.show() #We can also put a ; after above line"
      ],
      "metadata": {
        "id": "MacX7cbhhoeh",
        "colab": {
          "base_uri": "https://localhost:8080/",
          "height": 485
        },
        "outputId": "549bbff1-bf2a-4f7c-a033-6697ab1151e6"
      },
      "execution_count": 40,
      "outputs": [
        {
          "output_type": "display_data",
          "data": {
            "text/plain": [
              "<Figure size 576x576 with 1 Axes>"
            ],
            "image/png": "[encoded data removed]"
          },
          "metadata": {
            "needs_background": "light"
          }
        }
      ]
    },
    {
      "cell_type": "markdown",
      "source": [
        "We will now turn to understanding the shapes of the Beta distribution for different values of parameters $\\alpha$ and $\\beta$."
      ],
      "metadata": {
        "id": "vGWU-0B0P7xR"
      }
    },
    {
      "cell_type": "markdown",
      "source": [
        "## Problem-10\n",
        "\n",
        "Plot the beta distribution for the following values:\n",
        "\n",
        "- $\\alpha = 5, \\beta = 5$\n",
        "- $\\alpha = 5, \\beta = 1.5$\n",
        "- $\\alpha = 1.5, \\beta = 5$\n",
        "- $\\alpha = 0.5, \\beta = 0.5$\n",
        "\n",
        "\n",
        "Do not worry about the normalization constant. Use `plt.subplot(2, 2, i)` to plot all four distributions in a single figure. `i` should take the values 1, 2, 3 and 4 for these four subplots. If you are not sure how it works, google it. Stackoverflow will be of great help here."
      ],
      "metadata": {
        "id": "2YGpPqHpQTjr"
      }
    },
    {
      "cell_type": "code",
      "source": [
        "def beta_exp(x,alpha,beta):\n",
        "  return x**(alpha-1)*(1-x)**(beta-1)\n",
        "\n",
        "x = np.linspace(0,1,100)\n",
        "\n",
        "plt.plot(x,beta_exp(x,5,5))\n",
        "plt.show()"
      ],
      "metadata": {
        "id": "2br4TZm4QRQF",
        "colab": {
          "base_uri": "https://localhost:8080/",
          "height": 483
        },
        "outputId": "51af7562-15be-4fd1-a614-53d7708cc7a1"
      },
      "execution_count": 46,
      "outputs": [
        {
          "output_type": "display_data",
          "data": {
            "text/plain": [
              "<Figure size 576x576 with 1 Axes>"
            ],
            "image/png": "[encoded data removed]"
          },
          "metadata": {
            "needs_background": "light"
          }
        }
      ]
    }
  ]
}